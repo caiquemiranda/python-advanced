{
 "cells": [
  {
   "cell_type": "code",
   "execution_count": null,
   "metadata": {},
   "outputs": [],
   "source": [
    "# Versão da Linguagem Python\n",
    "\n",
    "from platform import python_version\n",
    "print('Versão de Python Neste Jupyter Notebook:', python_version())\n",
    "\n",
    "import warnings\n",
    "warnings.filterwarnings('ignore')"
   ]
  },
  {
   "attachments": {},
   "cell_type": "markdown",
   "metadata": {},
   "source": [
    "EXCEÇÃO MANUSEIO"
   ]
  },
  {
   "attachments": {},
   "cell_type": "markdown",
   "metadata": {},
   "source": [
    "Em qualquer linguagem de programação, existem 2 tipos de erros possíveis. \n",
    "1) Erros de sintaxe\n",
    "2) 2) Erros de tempo de execução"
   ]
  },
  {
   "attachments": {},
   "cell_type": "markdown",
   "metadata": {},
   "source": [
    "1) Erros de sintaxe:"
   ]
  },
  {
   "attachments": {},
   "cell_type": "markdown",
   "metadata": {},
   "source": [
    "Os erros que ocorrem devido à sintaxe inválida são chamados de erros de sintaxe."
   ]
  },
  {
   "cell_type": "code",
   "execution_count": null,
   "metadata": {},
   "outputs": [],
   "source": [
    "#ExEx.:\n",
    "\n"
   ]
  },
  {
   "cell_type": "code",
   "execution_count": null,
   "metadata": {},
   "outputs": [],
   "source": [
    "#ExEx. 2:\n",
    "\n"
   ]
  },
  {
   "attachments": {},
   "cell_type": "markdown",
   "metadata": {},
   "source": [
    "Nota: O programador é responsável por corrigir esses erros de sintaxe. Depois que todos os erros\n",
    "de sintaxe forem corrigidos, somente a execução do programa será iniciada."
   ]
  },
  {
   "attachments": {},
   "cell_type": "markdown",
   "metadata": {},
   "source": [
    "2) Erros de tempo de execução:"
   ]
  },
  {
   "attachments": {},
   "cell_type": "markdown",
   "metadata": {},
   "source": [
    "Também conhecidas como\n",
    "exceções. • Durante a execução do programa, se algo der errado devido à entrada do usuário final\n",
    "ou lógica de programação ou problemas de memória, etc., obteremos erros de tempo de execução."
   ]
  },
  {
   "cell_type": "code",
   "execution_count": null,
   "metadata": {},
   "outputs": [],
   "source": [
    "#Code"
   ]
  },
  {
   "attachments": {},
   "cell_type": "markdown",
   "metadata": {},
   "source": [
    "Conceito de tratamento de exceções aplicável a erros de tempo de execução, mas não a erros de sintaxe"
   ]
  },
  {
   "attachments": {},
   "cell_type": "markdown",
   "metadata": {},
   "source": [
    "O que é Exceção?"
   ]
  },
  {
   "attachments": {},
   "cell_type": "markdown",
   "metadata": {},
   "source": [
    "Um evento indesejado e inesperado que perturba o fluxo normal do programa é chamado de\n",
    "exceção."
   ]
  },
  {
   "attachments": {},
   "cell_type": "markdown",
   "metadata": {},
   "source": [
    "É altamente recomendável lidar com exceções. O principal objetivo do tratamento de exceções é o Graceful\n",
    "Termination do programa (ou seja, não devemos bloquear nossos recursos e não devemos perder\n",
    "nada)"
   ]
  },
  {
   "attachments": {},
   "cell_type": "markdown",
   "metadata": {},
   "source": [
    "O tratamento de exceção não significa reparar a exceção. Temos que definir uma forma alternativa para\n",
    "continuar o restante do programa normalmente."
   ]
  },
  {
   "attachments": {},
   "cell_type": "markdown",
   "metadata": {},
   "source": [
    "Ex.: Por exemplo, nosso requisito de programação é a leitura de dados de um arquivo remoto localizado\n",
    "em Londres. No tempo de execução, se o arquivo London não estiver disponível, o programa não\n",
    "deve ser encerrado de forma anormal. Temos que fornecer o arquivo local para continuar o restante\n",
    "do programa normalmente. Essa forma de definir alternativa nada mais é do que tratamento de exceções."
   ]
  },
  {
   "attachments": {},
   "cell_type": "markdown",
   "metadata": {},
   "source": [
    "tente:\n",
    "Leia os dados do arquivo remoto localizado em Londres.\n",
    "exceto FileNotFoundError: use\n",
    "o arquivo local e continue o restante do programa normalmente"
   ]
  },
  {
   "cell_type": "markdown",
   "metadata": {},
   "source": []
  },
  {
   "cell_type": "markdown",
   "metadata": {},
   "source": []
  },
  {
   "cell_type": "code",
   "execution_count": null,
   "metadata": {},
   "outputs": [],
   "source": []
  },
  {
   "cell_type": "code",
   "execution_count": null,
   "metadata": {},
   "outputs": [],
   "source": [
    "%reload_ext watermark\n",
    "%watermark -a \"Caique Miranda\" -gu \"caiquemiranda\" -iv"
   ]
  },
  {
   "attachments": {},
   "cell_type": "markdown",
   "metadata": {},
   "source": [
    "### End."
   ]
  }
 ],
 "metadata": {
  "kernelspec": {
   "display_name": "Python 3",
   "language": "python",
   "name": "python3"
  },
  "language_info": {
   "name": "python",
   "version": "3.10.5"
  },
  "orig_nbformat": 4,
  "vscode": {
   "interpreter": {
    "hash": "74af3d2f25f1e46ebd2903d59225d79e4675ec224d56c01fc30cd168c2010d53"
   }
  }
 },
 "nbformat": 4,
 "nbformat_minor": 2
}
