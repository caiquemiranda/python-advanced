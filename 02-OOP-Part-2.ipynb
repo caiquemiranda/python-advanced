{
 "cells": [
  {
   "cell_type": "code",
   "execution_count": 1,
   "metadata": {},
   "outputs": [
    {
     "name": "stdout",
     "output_type": "stream",
     "text": [
      "Versão de Python Neste Jupyter Notebook: 3.10.5\n"
     ]
    }
   ],
   "source": [
    "# Versão da Linguagem Python\n",
    "\n",
    "from platform import python_version\n",
    "print('Versão de Python Neste Jupyter Notebook:', python_version())"
   ]
  },
  {
   "cell_type": "code",
   "execution_count": 2,
   "metadata": {},
   "outputs": [],
   "source": [
    "import warnings\n",
    "warnings.filterwarnings('ignore')"
   ]
  },
  {
   "attachments": {},
   "cell_type": "markdown",
   "metadata": {},
   "source": [
    "##### Types of Inheritance \n",
    "\n",
    "- Single Inheritance \n",
    "- Multi Level Inheritance \n",
    "- Hierarchical Inheritance \n",
    "- Multiple Inheritance \n",
    "- Hybrid Inheritance \n",
    "- Cyclic Inheritance"
   ]
  },
  {
   "cell_type": "code",
   "execution_count": 3,
   "metadata": {},
   "outputs": [
    {
     "name": "stdout",
     "output_type": "stream",
     "text": [
      "Car using Engine Class Functionality\n",
      "10\n",
      "20\n",
      "Engine Specific Functionality\n"
     ]
    }
   ],
   "source": [
    "# Example - 043\n",
    "class Engine:\n",
    "\n",
    "    a = 10\n",
    "\n",
    "    def __init__(self):\n",
    "        self.b = 20\n",
    "\n",
    "    def m1(self):\n",
    "        print('Engine Specific Functionality')\n",
    "\n",
    "\n",
    "class Car:\n",
    "\n",
    "    def __init__(self):\n",
    "        self.engine = Engine()\n",
    "\n",
    "    def m2(self):\n",
    "        print('Car using Engine Class Functionality')\n",
    "        print(self.engine.a)\n",
    "        print(self.engine.b)\n",
    "        self.engine.m1()\n",
    "\n",
    "\n",
    "c = Car()\n",
    "c.m2()"
   ]
  },
  {
   "cell_type": "code",
   "execution_count": 4,
   "metadata": {},
   "outputs": [
    {
     "name": "stdout",
     "output_type": "stream",
     "text": [
      "Employee Name: Miranda\n",
      "Employee Number: 10000\n",
      "Employee Car Info:\n",
      "Car Name:Innova , Model:2.5V and Color:Grey\n"
     ]
    }
   ],
   "source": [
    "# Example - 044\n",
    "class Car:\n",
    "\n",
    "    def __init__(self, name, model, color):\n",
    "        self.name = name\n",
    "        self.model = model\n",
    "        self.color = color\n",
    "\n",
    "    def getinfo(self):\n",
    "        print(\n",
    "            f\"Car Name:{self.name} , Model:{self.model} and Color:{self.color}\")\n",
    "\n",
    "\n",
    "class Employee:\n",
    "\n",
    "    def __init__(self, ename, eno, car):\n",
    "        self.ename = ename\n",
    "        self.eno = eno\n",
    "        self.car = car\n",
    "\n",
    "    def empinfo(self):\n",
    "        print(\"Employee Name:\", self.ename)\n",
    "        print(\"Employee Number:\", self.eno)\n",
    "        print(\"Employee Car Info:\")\n",
    "        self.car.getinfo()\n",
    "\n",
    "\n",
    "c = Car(\"Innova\", \"2.5V\", \"Grey\")\n",
    "e = Employee('Miranda', 10000, c)\n",
    "e.empinfo()"
   ]
  },
  {
   "cell_type": "code",
   "execution_count": 5,
   "metadata": {},
   "outputs": [
    {
     "name": "stdout",
     "output_type": "stream",
     "text": [
      "10\n",
      "20\n",
      "m1 method of X class\n",
      "30\n",
      "40\n",
      "m2 method of Y class\n",
      "m3 method of Y class\n"
     ]
    }
   ],
   "source": [
    "# Example - 045\n",
    "class X:\n",
    "\n",
    "    a = 10\n",
    "\n",
    "    def __init__(self):\n",
    "        self.b = 20\n",
    "\n",
    "    def m1(self):\n",
    "        print(\"m1 method of X class\")\n",
    "\n",
    "\n",
    "class Y:\n",
    "\n",
    "    c = 30\n",
    "\n",
    "    def __init__(self):\n",
    "        self.d = 40\n",
    "\n",
    "    def m2(self):\n",
    "        print(\"m2 method of Y class\")\n",
    "\n",
    "    def m3(self):\n",
    "        x1 = X()\n",
    "        print(x1.a)\n",
    "        print(x1.b)\n",
    "        x1.m1()\n",
    "        print(Y.c)\n",
    "        print(self.d)\n",
    "        self.m2()\n",
    "        print(\"m3 method of Y class\")\n",
    "\n",
    "\n",
    "y1 = Y()\n",
    "y1.m3()"
   ]
  },
  {
   "cell_type": "code",
   "execution_count": 6,
   "metadata": {},
   "outputs": [
    {
     "name": "stdout",
     "output_type": "stream",
     "text": [
      "10\n",
      "10\n",
      "Parent instance method\n",
      "Parent class method\n",
      "Parent static method\n"
     ]
    }
   ],
   "source": [
    "# Example - 046\n",
    "class P:\n",
    "\n",
    "    a = 10\n",
    "\n",
    "    def __init__(self):\n",
    "        self.b = 10\n",
    "\n",
    "    def m1(self):\n",
    "        print('Parent instance method')\n",
    "\n",
    "    @classmethod\n",
    "    def m2(cls):\n",
    "        print('Parent class method')\n",
    "\n",
    "    @staticmethod\n",
    "    def m3():\n",
    "        print('Parent static method')\n",
    "\n",
    "\n",
    "class C(P):\n",
    "\n",
    "    pass\n",
    "\n",
    "\n",
    "c = C()\n",
    "\n",
    "print(c.a)\n",
    "print(c.b)\n",
    "\n",
    "c.m1()\n",
    "c.m2()\n",
    "c.m3()"
   ]
  },
  {
   "cell_type": "code",
   "execution_count": 7,
   "metadata": {},
   "outputs": [],
   "source": [
    "# Example - 047\n",
    "class P:\n",
    "\n",
    "    # 10 methods\n",
    "    pass\n",
    "\n",
    "\n",
    "class C(P):\n",
    "    # 5 methods\n",
    "    pass"
   ]
  },
  {
   "cell_type": "code",
   "execution_count": 8,
   "metadata": {},
   "outputs": [
    {
     "name": "stdout",
     "output_type": "stream",
     "text": [
      "Parent class method\n",
      "Child class method\n"
     ]
    }
   ],
   "source": [
    "# Example - 048\n",
    "class P:\n",
    "\n",
    "    def m1(self):\n",
    "        print(\"Parent class method\")\n",
    "\n",
    "\n",
    "class C(P):\n",
    "\n",
    "    def m2(self):\n",
    "        print(\"Child class method\")\n",
    "\n",
    "\n",
    "c = C()\n",
    "c.m1()\n",
    "c.m2()"
   ]
  },
  {
   "cell_type": "code",
   "execution_count": 9,
   "metadata": {},
   "outputs": [
    {
     "name": "stdout",
     "output_type": "stream",
     "text": [
      "10 20 30 30\n"
     ]
    }
   ],
   "source": [
    "# Example - 049\n",
    "class P:\n",
    "\n",
    "    a = 10\n",
    "\n",
    "    def __init__(self):\n",
    "        self.b = 20\n",
    "\n",
    "\n",
    "class C(P):\n",
    "\n",
    "    c = 30\n",
    "\n",
    "    def __init__(self):\n",
    "        super().__init__()  # ===>Line-1\n",
    "        self.d = 30\n",
    "\n",
    "\n",
    "c1 = C()\n",
    "print(c1.a, c1.b, c1.c, c1.d)"
   ]
  },
  {
   "cell_type": "code",
   "execution_count": 10,
   "metadata": {},
   "outputs": [
    {
     "name": "stdout",
     "output_type": "stream",
     "text": [
      "Eat Biryani and Drink Beer\n",
      "Coding Python is very easy just like drinking Chilled Beer\n",
      "Employee Name: Miranda\n",
      "Employee Age: 48\n",
      "Employee Number: 100\n",
      "Employee Salary: 10000\n"
     ]
    }
   ],
   "source": [
    "# Example - 050\n",
    "class Person:\n",
    "\n",
    "    def __init__(self, name, age):\n",
    "        self.name = name\n",
    "        self.age = age\n",
    "\n",
    "    def eatndrink(self):\n",
    "        print('Eat Biryani and Drink Beer')\n",
    "\n",
    "\n",
    "class Employee(Person):\n",
    "\n",
    "    def __init__(self, name, age, eno, esal):\n",
    "        super().__init__(name, age)\n",
    "        self.eno = eno\n",
    "        self.esal = esal\n",
    "\n",
    "    def work(self):\n",
    "        print(\"Coding Python is very easy just like drinking Chilled Beer\")\n",
    "\n",
    "    def empinfo(self):\n",
    "        print(\"Employee Name:\", self.name)\n",
    "        print(\"Employee Age:\", self.age)\n",
    "        print(\"Employee Number:\", self.eno)\n",
    "        print(\"Employee Salary:\", self.esal)\n",
    "\n",
    "\n",
    "e = Employee('Miranda', 48, 100, 10000)\n",
    "e.eatndrink()\n",
    "e.work()\n",
    "e.empinfo()"
   ]
  },
  {
   "cell_type": "code",
   "execution_count": 11,
   "metadata": {},
   "outputs": [
    {
     "name": "stdout",
     "output_type": "stream",
     "text": [
      "Eat Biryani and Drink Beer\n",
      "Coding Python is very easy just like drinking Chilled Beer\n",
      "Employee Name: Miranda\n",
      "Employee Age: 48\n",
      "Employee Number: 100\n",
      "Employee Salary: 10000\n",
      "Employee Car Info:\n",
      "\tCar Name:Innova \n",
      "\t Model:2.5V \n",
      "\t Color:Grey\n"
     ]
    }
   ],
   "source": [
    "# Example - 051\n",
    "class Car:\n",
    "\n",
    "    def __init__(self, name, model, color):\n",
    "        self.name = name\n",
    "        self.model = model\n",
    "        self.color = color\n",
    "\n",
    "    def getinfo(self):\n",
    "        print(\n",
    "            f\"\\tCar Name:{self.name} \\n\\t Model:{self.model} \\n\\t Color:{self.color}\")\n",
    "\n",
    "\n",
    "class Person:\n",
    "\n",
    "    def __init__(self, name, age):\n",
    "        self.name = name\n",
    "        self.age = age\n",
    "\n",
    "    def eatndrink(self):\n",
    "        print('Eat Biryani and Drink Beer')\n",
    "\n",
    "\n",
    "class Employee(Person):\n",
    "\n",
    "    def __init__(self, name, age, eno, esal, car):\n",
    "        super().__init__(name, age)\n",
    "        self.eno = eno\n",
    "        self.esal = esal\n",
    "        self.car = car\n",
    "\n",
    "    def work(self):\n",
    "        print(\"Coding Python is very easy just like drinking Chilled Beer\")\n",
    "\n",
    "    def empinfo(self):\n",
    "        print(\"Employee Name:\", self.name)\n",
    "        print(\"Employee Age:\", self.age)\n",
    "        print(\"Employee Number:\", self.eno)\n",
    "        print(\"Employee Salary:\", self.esal)\n",
    "        print(\"Employee Car Info:\")\n",
    "        self.car.getinfo()\n",
    "\n",
    "\n",
    "c = Car(\"Innova\", \"2.5V\", \"Grey\")\n",
    "e = Employee('Miranda', 48, 100, 10000, c)\n",
    "e.eatndrink()\n",
    "e.work()\n",
    "e.empinfo()\n"
   ]
  },
  {
   "cell_type": "code",
   "execution_count": 12,
   "metadata": {},
   "outputs": [
    {
     "name": "stdout",
     "output_type": "stream",
     "text": [
      "SUPERPYTHON\n",
      "Miranda\n"
     ]
    }
   ],
   "source": [
    "# Example - 052\n",
    "class Student:\n",
    "\n",
    "    collegeName = 'SUPERPYTHON'\n",
    "\n",
    "    def __init__(self, name):\n",
    "        self.name = name\n",
    "        print(Student.collegeName)\n",
    "\n",
    "\n",
    "s = Student('Miranda')\n",
    "print(s.name)"
   ]
  },
  {
   "cell_type": "code",
   "execution_count": 13,
   "metadata": {},
   "outputs": [
    {
     "name": "stdout",
     "output_type": "stream",
     "text": [
      "1940934237088\n",
      "1940934237088\n"
     ]
    }
   ],
   "source": [
    "# Example - 053\n",
    "class P:\n",
    "\n",
    "    def __init__(self):\n",
    "        print(id(self))\n",
    "\n",
    "\n",
    "class C(P):\n",
    "    pass\n",
    "\n",
    "\n",
    "c = C()\n",
    "print(id(c))"
   ]
  },
  {
   "cell_type": "code",
   "execution_count": 14,
   "metadata": {},
   "outputs": [
    {
     "name": "stdout",
     "output_type": "stream",
     "text": [
      "Name=Miranda\n",
      "Age=48\n",
      "Rollno=101\n",
      "Marks=90\n"
     ]
    }
   ],
   "source": [
    "# Example - 054\n",
    "class Person:\n",
    "\n",
    "    def __init__(self, name, age):\n",
    "        self.name = name\n",
    "        self.age = age\n",
    "\n",
    "\n",
    "class Student(Person):\n",
    "\n",
    "    def __init__(self, name, age, rollno, marks):\n",
    "        super().__init__(name, age)\n",
    "        self.rollno = rollno\n",
    "        self.marks = marks\n",
    "\n",
    "    def __str__(self):\n",
    "        return f'Name={self.name}\\nAge={self.age}\\nRollno={self.rollno}\\nMarks={self.marks}'\n",
    "\n",
    "\n",
    "s1 = Student('Miranda', 48, 101, 90)\n",
    "print(s1)"
   ]
  },
  {
   "attachments": {},
   "cell_type": "markdown",
   "metadata": {},
   "source": [
    "### Types of Inheritance:"
   ]
  },
  {
   "attachments": {},
   "cell_type": "markdown",
   "metadata": {},
   "source": [
    "#### 1) Single Inheritance:"
   ]
  },
  {
   "cell_type": "code",
   "execution_count": 15,
   "metadata": {},
   "outputs": [
    {
     "name": "stdout",
     "output_type": "stream",
     "text": [
      "Parent Method\n",
      "Child Method\n"
     ]
    }
   ],
   "source": [
    "# Example - 55\n",
    "class P:\n",
    "\n",
    "    def m1(self):\n",
    "        print(\"Parent Method\")\n",
    "\n",
    "\n",
    "class C(P):\n",
    "\n",
    "    def m2(self):\n",
    "        print(\"Child Method\")\n",
    "\n",
    "\n",
    "c = C()\n",
    "c.m1()\n",
    "c.m2()"
   ]
  },
  {
   "attachments": {},
   "cell_type": "markdown",
   "metadata": {},
   "source": [
    "#### 2) Multi Level Inheritance:"
   ]
  },
  {
   "cell_type": "code",
   "execution_count": 16,
   "metadata": {},
   "outputs": [
    {
     "name": "stdout",
     "output_type": "stream",
     "text": [
      "Parent Method\n",
      "Child Method\n",
      "Sub Child Method\n"
     ]
    }
   ],
   "source": [
    "# Example - 056\n",
    "class P:\n",
    "\n",
    "    def m1(self):\n",
    "        print(\"Parent Method\")\n",
    "\n",
    "\n",
    "class C(P):\n",
    "\n",
    "    def m2(self):\n",
    "        print(\"Child Method\")\n",
    "\n",
    "\n",
    "class CC(C):\n",
    "\n",
    "    def m3(self):\n",
    "        print(\"Sub Child Method\")\n",
    "\n",
    "\n",
    "c = CC()\n",
    "c.m1()\n",
    "c.m2()\n",
    "c.m3()"
   ]
  },
  {
   "attachments": {},
   "cell_type": "markdown",
   "metadata": {},
   "source": [
    "#### 3) Hierarchical Inheritance:"
   ]
  },
  {
   "cell_type": "code",
   "execution_count": 17,
   "metadata": {},
   "outputs": [
    {
     "name": "stdout",
     "output_type": "stream",
     "text": [
      "Parent Method\n",
      "Child1 Method\n",
      "Parent Method\n",
      "Child2 Method\n"
     ]
    }
   ],
   "source": [
    "# Example - 057\n",
    "class P:\n",
    "\n",
    "    def m1(self):\n",
    "        print(\"Parent Method\")\n",
    "\n",
    "\n",
    "class C1(P):\n",
    "    def m2(self):\n",
    "        print(\"Child1 Method\")\n",
    "\n",
    "\n",
    "class C2(P):\n",
    "    def m3(self):\n",
    "        print(\"Child2 Method\")\n",
    "\n",
    "\n",
    "c1 = C1()\n",
    "c1.m1()\n",
    "c1.m2()\n",
    "\n",
    "c2 = C2()\n",
    "c2.m1()\n",
    "c2.m3()"
   ]
  },
  {
   "attachments": {},
   "cell_type": "markdown",
   "metadata": {},
   "source": [
    "#### 4) Multiple Inheritance:"
   ]
  },
  {
   "cell_type": "code",
   "execution_count": 18,
   "metadata": {},
   "outputs": [
    {
     "name": "stdout",
     "output_type": "stream",
     "text": [
      "Parent1 Method\n",
      "Parent2 Method\n",
      "Child2 Method\n"
     ]
    }
   ],
   "source": [
    "# Example - 058\n",
    "class P1:\n",
    "\n",
    "    def m1(self):\n",
    "        print(\"Parent1 Method\")\n",
    "\n",
    "\n",
    "class P2:\n",
    "\n",
    "    def m2(self):\n",
    "        print(\"Parent2 Method\")\n",
    "\n",
    "\n",
    "class C(P1, P2):\n",
    "\n",
    "    def m3(self):\n",
    "        print(\"Child2 Method\")\n",
    "\n",
    "\n",
    "c = C()\n",
    "c.m1()\n",
    "c.m2()\n",
    "c.m3()"
   ]
  },
  {
   "cell_type": "code",
   "execution_count": 19,
   "metadata": {},
   "outputs": [
    {
     "name": "stdout",
     "output_type": "stream",
     "text": [
      "Parent1 Method\n",
      "Child Method\n"
     ]
    }
   ],
   "source": [
    "# Example - 059\n",
    "class P1:\n",
    "\n",
    "    def m1(self):\n",
    "        print(\"Parent1 Method\")\n",
    "\n",
    "\n",
    "class P2:\n",
    "\n",
    "    def m1(self):\n",
    "        print(\"Parent2 Method\")\n",
    "\n",
    "\n",
    "class C(P1, P2):\n",
    "    def m2(self):\n",
    "        print(\"Child Method\")\n",
    "\n",
    "\n",
    "c = C()\n",
    "c.m1()\n",
    "c.m2()"
   ]
  },
  {
   "attachments": {},
   "cell_type": "markdown",
   "metadata": {},
   "source": [
    "#### 5) Hybrid Inheritance:"
   ]
  },
  {
   "attachments": {},
   "cell_type": "markdown",
   "metadata": {},
   "source": [
    "#### 6) Cyclic Inheritance:"
   ]
  },
  {
   "cell_type": "code",
   "execution_count": 20,
   "metadata": {},
   "outputs": [
    {
     "ename": "NameError",
     "evalue": "name 'B' is not defined",
     "output_type": "error",
     "traceback": [
      "\u001b[1;31m---------------------------------------------------------------------------\u001b[0m",
      "\u001b[1;31mNameError\u001b[0m                                 Traceback (most recent call last)",
      "\u001b[1;32md:\\GIT-repository\\github-python-advanced\\python-advanced\\02-OOP-Part-2.ipynb Célula 28\u001b[0m in \u001b[0;36m<cell line: 2>\u001b[1;34m()\u001b[0m\n\u001b[0;32m      <a href='vscode-notebook-cell:/d%3A/GIT-repository/github-python-advanced/python-advanced/02-OOP-Part-2.ipynb#X31sZmlsZQ%3D%3D?line=0'>1</a>\u001b[0m \u001b[39m# Example - 060\u001b[39;00m\n\u001b[1;32m----> <a href='vscode-notebook-cell:/d%3A/GIT-repository/github-python-advanced/python-advanced/02-OOP-Part-2.ipynb#X31sZmlsZQ%3D%3D?line=1'>2</a>\u001b[0m \u001b[39mclass\u001b[39;00m \u001b[39mA\u001b[39;00m(B): \n\u001b[0;32m      <a href='vscode-notebook-cell:/d%3A/GIT-repository/github-python-advanced/python-advanced/02-OOP-Part-2.ipynb#X31sZmlsZQ%3D%3D?line=3'>4</a>\u001b[0m     \u001b[39mpass\u001b[39;00m \n\u001b[0;32m      <a href='vscode-notebook-cell:/d%3A/GIT-repository/github-python-advanced/python-advanced/02-OOP-Part-2.ipynb#X31sZmlsZQ%3D%3D?line=5'>6</a>\u001b[0m \u001b[39mclass\u001b[39;00m \u001b[39mB\u001b[39;00m(A): \n",
      "\u001b[1;31mNameError\u001b[0m: name 'B' is not defined"
     ]
    }
   ],
   "source": [
    "# Example - 060\n",
    "class A(B): \n",
    "    \n",
    "    pass \n",
    "\n",
    "class B(A): \n",
    "        \n",
    "    pass"
   ]
  },
  {
   "cell_type": "code",
   "execution_count": 21,
   "metadata": {},
   "outputs": [
    {
     "name": "stdout",
     "output_type": "stream",
     "text": [
      "[<class '__main__.A'>, <class 'object'>]\n",
      "[<class '__main__.B'>, <class '__main__.A'>, <class 'object'>]\n",
      "[<class '__main__.C'>, <class '__main__.A'>, <class 'object'>]\n",
      "[<class '__main__.D'>, <class '__main__.B'>, <class '__main__.C'>, <class '__main__.A'>, <class 'object'>]\n"
     ]
    }
   ],
   "source": [
    "# Example - 61\n",
    "class A:\n",
    "    pass\n",
    "\n",
    "\n",
    "class B(A):\n",
    "    pass\n",
    "\n",
    "\n",
    "class C(A):\n",
    "    pass\n",
    "\n",
    "\n",
    "class D(B, C):\n",
    "    pass\n",
    "\n",
    "\n",
    "print(A.mro())\n",
    "print(B.mro())\n",
    "print(C.mro())\n",
    "print(D.mro())"
   ]
  },
  {
   "cell_type": "code",
   "execution_count": 22,
   "metadata": {},
   "outputs": [
    {
     "name": "stdout",
     "output_type": "stream",
     "text": [
      "[<class '__main__.A'>, <class 'object'>]\n",
      "[<class '__main__.X'>, <class '__main__.A'>, <class '__main__.B'>, <class 'object'>]\n",
      "[<class '__main__.Y'>, <class '__main__.B'>, <class '__main__.C'>, <class 'object'>]\n",
      "[<class '__main__.P'>, <class '__main__.X'>, <class '__main__.A'>, <class '__main__.Y'>, <class '__main__.B'>, <class '__main__.C'>, <class 'object'>]\n"
     ]
    }
   ],
   "source": [
    "# Example - 062\n",
    "class A:\n",
    "    pass\n",
    "\n",
    "\n",
    "class B:\n",
    "    pass\n",
    "\n",
    "\n",
    "class C:\n",
    "    pass\n",
    "\n",
    "\n",
    "class X(A, B):\n",
    "    pass\n",
    "\n",
    "\n",
    "class Y(B, C):\n",
    "    pass\n",
    "\n",
    "\n",
    "class P(X, Y, C):\n",
    "    pass\n",
    "\n",
    "\n",
    "print(A.mro())  # AO\n",
    "print(X.mro())  # XABO\n",
    "print(Y.mro())  # YBCO\n",
    "print(P.mro())  # PXAYBCO"
   ]
  },
  {
   "cell_type": "code",
   "execution_count": 23,
   "metadata": {},
   "outputs": [
    {
     "name": "stdout",
     "output_type": "stream",
     "text": [
      "P class Method\n"
     ]
    }
   ],
   "source": [
    "# Example - 063\n",
    "class A:\n",
    "\n",
    "    def m1(self):\n",
    "        print('A class Method')\n",
    "\n",
    "\n",
    "class B:\n",
    "\n",
    "    def m1(self):\n",
    "        print('B class Method')\n",
    "\n",
    "\n",
    "class C:\n",
    "\n",
    "    def m1(self):\n",
    "        print('C class Method')\n",
    "\n",
    "\n",
    "class X(A, B):\n",
    "\n",
    "    def m1(self):\n",
    "        print('X class Method')\n",
    "\n",
    "\n",
    "class Y(B, C):\n",
    "\n",
    "    def m1(self):\n",
    "        print('Y class Method')\n",
    "\n",
    "\n",
    "class P(X, Y, C):\n",
    "\n",
    "    def m1(self):\n",
    "        print('P class Method')\n",
    "\n",
    "\n",
    "p = P()\n",
    "p.m1()"
   ]
  },
  {
   "cell_type": "code",
   "execution_count": 24,
   "metadata": {},
   "outputs": [
    {
     "name": "stdout",
     "output_type": "stream",
     "text": [
      "[<class '__main__.D'>, <class 'object'>]\n",
      "[<class '__main__.B'>, <class '__main__.D'>, <class '__main__.E'>, <class 'object'>]\n",
      "[<class '__main__.C'>, <class '__main__.D'>, <class '__main__.F'>, <class 'object'>]\n",
      "[<class '__main__.A'>, <class '__main__.B'>, <class '__main__.C'>, <class '__main__.D'>, <class '__main__.E'>, <class '__main__.F'>, <class 'object'>]\n"
     ]
    }
   ],
   "source": [
    "# Example - 064\n",
    "class D:\n",
    "    pass\n",
    "\n",
    "\n",
    "class E:\n",
    "    pass\n",
    "\n",
    "\n",
    "class F:\n",
    "    pass\n",
    "\n",
    "\n",
    "class B(D, E):\n",
    "    pass\n",
    "\n",
    "\n",
    "class C(D, F):\n",
    "    pass\n",
    "\n",
    "\n",
    "class A(B, C):\n",
    "    pass\n",
    "\n",
    "\n",
    "print(D.mro())\n",
    "print(B.mro())\n",
    "print(C.mro())\n",
    "print(A.mro())"
   ]
  },
  {
   "attachments": {},
   "cell_type": "markdown",
   "metadata": {},
   "source": [
    "#### super() Method:"
   ]
  },
  {
   "cell_type": "code",
   "execution_count": 25,
   "metadata": {},
   "outputs": [
    {
     "name": "stdout",
     "output_type": "stream",
     "text": [
      "Name: Miranda\n",
      "Age: 22\n",
      "Roll No: 101\n",
      "Marks: 90\n"
     ]
    }
   ],
   "source": [
    "# Example - 065\n",
    "class Person:\n",
    "\n",
    "    def __init__(self, name, age):\n",
    "        self.name = name\n",
    "        self.age = age\n",
    "\n",
    "    def display(self):\n",
    "        print('Name:', self.name)\n",
    "        print('Age:', self.age)\n",
    "\n",
    "\n",
    "class Student(Person):\n",
    "    def __init__(self, name, age, rollno, marks):\n",
    "        super().__init__(name, age)\n",
    "        self.rollno = rollno\n",
    "        self.marks = marks\n",
    "\n",
    "    def display(self):\n",
    "        super().display()\n",
    "        print('Roll No:', self.rollno)\n",
    "        print('Marks:', self.marks)\n",
    "\n",
    "\n",
    "s1 = Student('Miranda', 22, 101, 90)\n",
    "s1.display()"
   ]
  },
  {
   "cell_type": "code",
   "execution_count": 26,
   "metadata": {},
   "outputs": [
    {
     "name": "stdout",
     "output_type": "stream",
     "text": [
      "10\n",
      "Parent instance method\n",
      "Parent class method\n",
      "Parent static method\n"
     ]
    }
   ],
   "source": [
    "# Example - 066\n",
    "class P:\n",
    "\n",
    "    a = 10\n",
    "\n",
    "    def __init__(self):\n",
    "        self.b = 10\n",
    "\n",
    "    def m1(self):\n",
    "        print('Parent instance method')\n",
    "\n",
    "    @classmethod\n",
    "    def m2(cls):\n",
    "        print('Parent class method')\n",
    "\n",
    "    @staticmethod\n",
    "    def m3():\n",
    "        print('Parent static method')\n",
    "\n",
    "\n",
    "class C(P):\n",
    "\n",
    "    a = 888\n",
    "\n",
    "    def __init__(self):\n",
    "        self.b = 999\n",
    "        super().__init__()\n",
    "        print(super().a)\n",
    "        super().m1()\n",
    "        super().m2()\n",
    "        super().m3()\n",
    "\n",
    "\n",
    "c = C()"
   ]
  },
  {
   "attachments": {},
   "cell_type": "markdown",
   "metadata": {},
   "source": [
    "#### How to Call Method of a Particular Super Class:"
   ]
  },
  {
   "cell_type": "code",
   "execution_count": 27,
   "metadata": {},
   "outputs": [
    {
     "name": "stdout",
     "output_type": "stream",
     "text": [
      "A class Method\n"
     ]
    }
   ],
   "source": [
    "# Example - 067\n",
    "class A:\n",
    "\n",
    "    def m1(self):\n",
    "        print('A class Method')\n",
    "\n",
    "\n",
    "class B(A):\n",
    "\n",
    "    def m1(self):\n",
    "        print('B class Method')\n",
    "\n",
    "\n",
    "class C(B):\n",
    "\n",
    "    def m1(self):\n",
    "        print('C class Method')\n",
    "\n",
    "\n",
    "class D(C):\n",
    "\n",
    "    def m1(self):\n",
    "        print('D class Method')\n",
    "\n",
    "\n",
    "class E(D):\n",
    "\n",
    "    def m1(self):\n",
    "        A.m1(self)\n",
    "\n",
    "\n",
    "e = E()\n",
    "e.m1()"
   ]
  },
  {
   "attachments": {},
   "cell_type": "markdown",
   "metadata": {},
   "source": [
    "#### Various Important Points about super():"
   ]
  },
  {
   "cell_type": "code",
   "execution_count": 28,
   "metadata": {},
   "outputs": [
    {
     "name": "stdout",
     "output_type": "stream",
     "text": [
      "10\n",
      "20\n"
     ]
    },
    {
     "ename": "AttributeError",
     "evalue": "'super' object has no attribute 'b'",
     "output_type": "error",
     "traceback": [
      "\u001b[1;31m---------------------------------------------------------------------------\u001b[0m",
      "\u001b[1;31mAttributeError\u001b[0m                            Traceback (most recent call last)",
      "\u001b[1;32md:\\GIT-repository\\github-python-advanced\\python-advanced\\02-OOP-Part-2.ipynb Célula 39\u001b[0m in \u001b[0;36m<cell line: 19>\u001b[1;34m()\u001b[0m\n\u001b[0;32m     <a href='vscode-notebook-cell:/d%3A/GIT-repository/github-python-advanced/python-advanced/02-OOP-Part-2.ipynb#X20sZmlsZQ%3D%3D?line=14'>15</a>\u001b[0m         \u001b[39mprint\u001b[39m(\u001b[39msuper\u001b[39m()\u001b[39m.\u001b[39mb)  \u001b[39m# invalid\u001b[39;00m\n\u001b[0;32m     <a href='vscode-notebook-cell:/d%3A/GIT-repository/github-python-advanced/python-advanced/02-OOP-Part-2.ipynb#X20sZmlsZQ%3D%3D?line=17'>18</a>\u001b[0m c \u001b[39m=\u001b[39m C()\n\u001b[1;32m---> <a href='vscode-notebook-cell:/d%3A/GIT-repository/github-python-advanced/python-advanced/02-OOP-Part-2.ipynb#X20sZmlsZQ%3D%3D?line=18'>19</a>\u001b[0m c\u001b[39m.\u001b[39;49mm1()\n",
      "\u001b[1;32md:\\GIT-repository\\github-python-advanced\\python-advanced\\02-OOP-Part-2.ipynb Célula 39\u001b[0m in \u001b[0;36mC.m1\u001b[1;34m(self)\u001b[0m\n\u001b[0;32m     <a href='vscode-notebook-cell:/d%3A/GIT-repository/github-python-advanced/python-advanced/02-OOP-Part-2.ipynb#X20sZmlsZQ%3D%3D?line=12'>13</a>\u001b[0m \u001b[39mprint\u001b[39m(\u001b[39msuper\u001b[39m()\u001b[39m.\u001b[39ma)  \u001b[39m# valid\u001b[39;00m\n\u001b[0;32m     <a href='vscode-notebook-cell:/d%3A/GIT-repository/github-python-advanced/python-advanced/02-OOP-Part-2.ipynb#X20sZmlsZQ%3D%3D?line=13'>14</a>\u001b[0m \u001b[39mprint\u001b[39m(\u001b[39mself\u001b[39m\u001b[39m.\u001b[39mb)  \u001b[39m# valid\u001b[39;00m\n\u001b[1;32m---> <a href='vscode-notebook-cell:/d%3A/GIT-repository/github-python-advanced/python-advanced/02-OOP-Part-2.ipynb#X20sZmlsZQ%3D%3D?line=14'>15</a>\u001b[0m \u001b[39mprint\u001b[39m(\u001b[39msuper\u001b[39;49m()\u001b[39m.\u001b[39;49mb)\n",
      "\u001b[1;31mAttributeError\u001b[0m: 'super' object has no attribute 'b'"
     ]
    }
   ],
   "source": [
    "# Example - 068\n",
    "class P:\n",
    "\n",
    "    a = 10\n",
    "\n",
    "    def __init__(self):\n",
    "        self.b = 20\n",
    "\n",
    "\n",
    "class C(P):\n",
    "\n",
    "    def m1(self):\n",
    "        print(super().a)  # valid\n",
    "        print(self.b)  # valid\n",
    "        print(super().b)  # invalid\n",
    "\n",
    "\n",
    "c = C()\n",
    "c.m1()"
   ]
  },
  {
   "cell_type": "code",
   "execution_count": 29,
   "metadata": {},
   "outputs": [
    {
     "name": "stdout",
     "output_type": "stream",
     "text": [
      "Parent Constructor\n",
      "Parent instance method\n",
      "Parent class method\n",
      "Parent static method\n",
      "Parent Constructor\n",
      "Parent instance method\n",
      "Parent class method\n",
      "Parent static method\n"
     ]
    }
   ],
   "source": [
    "# Example - 069\n",
    "class P:\n",
    "\n",
    "    def __init__(self):\n",
    "        print('Parent Constructor')\n",
    "\n",
    "    def m1(self):\n",
    "        print('Parent instance method')\n",
    "\n",
    "    @classmethod\n",
    "    def m2(cls):\n",
    "        print('Parent class method')\n",
    "\n",
    "    @staticmethod\n",
    "    def m3():\n",
    "        print('Parent static method')\n",
    "\n",
    "\n",
    "class C(P):\n",
    "\n",
    "    def __init__(self):\n",
    "        super().__init__()\n",
    "        super().m1()\n",
    "        super().m2()\n",
    "        super().m3()\n",
    "\n",
    "    def m1(self):\n",
    "        super().__init__()\n",
    "        super().m1()\n",
    "        super().m2()\n",
    "        super().m3()\n",
    "\n",
    "\n",
    "c = C()\n",
    "c.m1()"
   ]
  },
  {
   "cell_type": "code",
   "execution_count": 30,
   "metadata": {},
   "outputs": [
    {
     "name": "stdout",
     "output_type": "stream",
     "text": [
      "Parent class method\n",
      "Parent static method\n"
     ]
    }
   ],
   "source": [
    "# Example - 070\n",
    "class P:\n",
    "\n",
    "    def __init__(self):\n",
    "        print('Parent Constructor')\n",
    "\n",
    "    def m1(self):\n",
    "        print('Parent instance method')\n",
    "\n",
    "    @classmethod\n",
    "    def m2(cls):\n",
    "        print('Parent class method')\n",
    "\n",
    "    @staticmethod\n",
    "    def m3():\n",
    "        print('Parent static method')\n",
    "\n",
    "\n",
    "class C(P):\n",
    "\n",
    "    @classmethod\n",
    "    def m1(cls):\n",
    "        # super().__init__()--->invalid\n",
    "        # super().m1()--->invalid\n",
    "        super().m2()\n",
    "        super().m3()\n",
    "\n",
    "\n",
    "C.m1()"
   ]
  },
  {
   "cell_type": "code",
   "execution_count": 31,
   "metadata": {},
   "outputs": [
    {
     "name": "stdout",
     "output_type": "stream",
     "text": [
      "Parent constructor\n",
      "Parent instance method\n"
     ]
    }
   ],
   "source": [
    "# Example - 071\n",
    "class A:\n",
    "\n",
    "    def __init__(self):\n",
    "        print('Parent constructor')\n",
    "\n",
    "    def m1(self):\n",
    "        print('Parent instance method')\n",
    "\n",
    "\n",
    "class B(A):\n",
    "\n",
    "    @classmethod\n",
    "    def m2(cls):\n",
    "        super(B, cls).__init__(cls)\n",
    "        super(B, cls).m1(cls)\n",
    "\n",
    "\n",
    "B.m2()"
   ]
  },
  {
   "cell_type": "code",
   "execution_count": 32,
   "metadata": {},
   "outputs": [
    {
     "ename": "RuntimeError",
     "evalue": "super(): no arguments",
     "output_type": "error",
     "traceback": [
      "\u001b[1;31m---------------------------------------------------------------------------\u001b[0m",
      "\u001b[1;31mRuntimeError\u001b[0m                              Traceback (most recent call last)",
      "\u001b[1;32md:\\GIT-repository\\github-python-advanced\\python-advanced\\02-OOP-Part-2.ipynb Célula 43\u001b[0m in \u001b[0;36m<cell line: 28>\u001b[1;34m()\u001b[0m\n\u001b[0;32m     <a href='vscode-notebook-cell:/d%3A/GIT-repository/github-python-advanced/python-advanced/02-OOP-Part-2.ipynb#X13sZmlsZQ%3D%3D?line=23'>24</a>\u001b[0m         \u001b[39msuper\u001b[39m()\u001b[39m.\u001b[39mm2()  \u001b[39m# --->invalid\u001b[39;00m\n\u001b[0;32m     <a href='vscode-notebook-cell:/d%3A/GIT-repository/github-python-advanced/python-advanced/02-OOP-Part-2.ipynb#X13sZmlsZQ%3D%3D?line=24'>25</a>\u001b[0m         \u001b[39msuper\u001b[39m()\u001b[39m.\u001b[39mm3()  \u001b[39m# --->invalid\u001b[39;00m\n\u001b[1;32m---> <a href='vscode-notebook-cell:/d%3A/GIT-repository/github-python-advanced/python-advanced/02-OOP-Part-2.ipynb#X13sZmlsZQ%3D%3D?line=27'>28</a>\u001b[0m C\u001b[39m.\u001b[39;49mm1()\n",
      "\u001b[1;32md:\\GIT-repository\\github-python-advanced\\python-advanced\\02-OOP-Part-2.ipynb Célula 43\u001b[0m in \u001b[0;36mC.m1\u001b[1;34m()\u001b[0m\n\u001b[0;32m     <a href='vscode-notebook-cell:/d%3A/GIT-repository/github-python-advanced/python-advanced/02-OOP-Part-2.ipynb#X13sZmlsZQ%3D%3D?line=20'>21</a>\u001b[0m \u001b[39m@staticmethod\u001b[39m\n\u001b[0;32m     <a href='vscode-notebook-cell:/d%3A/GIT-repository/github-python-advanced/python-advanced/02-OOP-Part-2.ipynb#X13sZmlsZQ%3D%3D?line=21'>22</a>\u001b[0m \u001b[39mdef\u001b[39;00m \u001b[39mm1\u001b[39m():\n\u001b[1;32m---> <a href='vscode-notebook-cell:/d%3A/GIT-repository/github-python-advanced/python-advanced/02-OOP-Part-2.ipynb#X13sZmlsZQ%3D%3D?line=22'>23</a>\u001b[0m     \u001b[39msuper\u001b[39;49m()\u001b[39m.\u001b[39mm1()  \u001b[39m# -->invalid\u001b[39;00m\n\u001b[0;32m     <a href='vscode-notebook-cell:/d%3A/GIT-repository/github-python-advanced/python-advanced/02-OOP-Part-2.ipynb#X13sZmlsZQ%3D%3D?line=23'>24</a>\u001b[0m     \u001b[39msuper\u001b[39m()\u001b[39m.\u001b[39mm2()  \u001b[39m# --->invalid\u001b[39;00m\n\u001b[0;32m     <a href='vscode-notebook-cell:/d%3A/GIT-repository/github-python-advanced/python-advanced/02-OOP-Part-2.ipynb#X13sZmlsZQ%3D%3D?line=24'>25</a>\u001b[0m     \u001b[39msuper\u001b[39m()\u001b[39m.\u001b[39mm3()\n",
      "\u001b[1;31mRuntimeError\u001b[0m: super(): no arguments"
     ]
    }
   ],
   "source": [
    "# Example - 072\n",
    "class P:\n",
    "\n",
    "    def __init__(self):\n",
    "        print('Parent Constructor')\n",
    "\n",
    "    def m1(self):\n",
    "        print('Parent instance method')\n",
    "\n",
    "    @classmethod\n",
    "    def m2(cls):\n",
    "        print('Parent class method')\n",
    "\n",
    "    @staticmethod\n",
    "    def m3():\n",
    "        print('Parent static method')\n",
    "\n",
    "\n",
    "class C(P):\n",
    "\n",
    "    @staticmethod\n",
    "    def m1():\n",
    "        super().m1()  # -->invalid\n",
    "        super().m2()  # --->invalid\n",
    "        super().m3()  # --->invalid\n",
    "\n",
    "\n",
    "C.m1()"
   ]
  },
  {
   "attachments": {},
   "cell_type": "markdown",
   "metadata": {},
   "source": [
    "#### How to Call Parent Class Static Method from Child Class Static Method by using super():"
   ]
  },
  {
   "cell_type": "code",
   "execution_count": 33,
   "metadata": {},
   "outputs": [
    {
     "name": "stdout",
     "output_type": "stream",
     "text": [
      "Parent static method\n"
     ]
    }
   ],
   "source": [
    "# Example - 073\n",
    "class A:\n",
    "\n",
    "    @staticmethod\n",
    "    def m1():\n",
    "        print('Parent static method')\n",
    "\n",
    "\n",
    "class B(A):\n",
    "\n",
    "    @staticmethod\n",
    "    def m2():\n",
    "        super(B, B).m1()\n",
    "\n",
    "\n",
    "B.m2()"
   ]
  },
  {
   "cell_type": "code",
   "execution_count": 34,
   "metadata": {},
   "outputs": [
    {
     "name": "stdout",
     "output_type": "stream",
     "text": [
      "Author: Caique Miranda\n",
      "\n",
      "Github username: caiquemiranda\n",
      "\n"
     ]
    }
   ],
   "source": [
    "%reload_ext watermark\n",
    "%watermark -a \"Caique Miranda\" -gu \"caiquemiranda\" -iv"
   ]
  },
  {
   "cell_type": "markdown",
   "metadata": {},
   "source": [
    "### End."
   ]
  }
 ],
 "metadata": {
  "kernelspec": {
   "display_name": "Python 3",
   "language": "python",
   "name": "python3"
  },
  "language_info": {
   "codemirror_mode": {
    "name": "ipython",
    "version": 3
   },
   "file_extension": ".py",
   "mimetype": "text/x-python",
   "name": "python",
   "nbconvert_exporter": "python",
   "pygments_lexer": "ipython3",
   "version": "3.10.5"
  },
  "orig_nbformat": 4,
  "vscode": {
   "interpreter": {
    "hash": "74af3d2f25f1e46ebd2903d59225d79e4675ec224d56c01fc30cd168c2010d53"
   }
  }
 },
 "nbformat": 4,
 "nbformat_minor": 2
}
