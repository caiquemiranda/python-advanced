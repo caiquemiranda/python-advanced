{
 "cells": [
  {
   "cell_type": "code",
   "execution_count": null,
   "metadata": {},
   "outputs": [],
   "source": [
    "# Versão da Linguagem Python\n",
    "\n",
    "from platform import python_version\n",
    "print('Versão de Python Neste Jupyter Notebook:', python_version())"
   ]
  },
  {
   "cell_type": "code",
   "execution_count": null,
   "metadata": {},
   "outputs": [],
   "source": [
    "import warnings\n",
    "warnings.filterwarnings('ignore')"
   ]
  },
  {
   "cell_type": "code",
   "execution_count": null,
   "metadata": {},
   "outputs": [],
   "source": [
    "# Syntax: \n",
    "# class className: \n",
    "#   ''' documenttation string ''' \n",
    "#   variables: instance variables, static and local variables \n",
    "#   methods: instance methods, static methods, class methods"
   ]
  },
  {
   "cell_type": "code",
   "execution_count": null,
   "metadata": {},
   "outputs": [],
   "source": [
    "# 1) print(classname.__doc__) \n",
    "# 2) help(classname)"
   ]
  },
  {
   "cell_type": "code",
   "execution_count": null,
   "metadata": {},
   "outputs": [],
   "source": [
    "# Example - 1\n",
    "class Student: \n",
    "    ''''' This is student class with required data'''  \n",
    "    print(Student.__doc__)\n",
    "    help(Student)"
   ]
  },
  {
   "cell_type": "code",
   "execution_count": null,
   "metadata": {},
   "outputs": [],
   "source": [
    "# Example - 2 \n",
    "class Student:\n",
    "    '''''Developed by durga for python demo''' \n",
    "    def __init__(self): \n",
    "    \n",
    "        self.name='durga' \n",
    "        self.age=40 \n",
    "        self.marks=80 \n",
    "        \n",
    "    def talk(self): \n",
    "        print(\"Hello I am :\",self.name) \n",
    "        print(\"My Age is:\",self.age) \n",
    "        print(\"My Marks are:\",self.marks)"
   ]
  },
  {
   "cell_type": "code",
   "execution_count": null,
   "metadata": {},
   "outputs": [],
   "source": [
    "# Example - 3\n",
    "class Student: \n",
    "    \n",
    "    def __init__(self,name,rollno,marks): \n",
    "        self.name=name \n",
    "        self.rollno=rollno \n",
    "        self.marks=marks\n",
    "        \n",
    "        def talk(self):\n",
    "            print(\"Hello My Name is:\",self.name) \n",
    "            print(\"My Rollno is:\",self.rollno) \n",
    "            print(\"My Marks are:\",self.marks) \n",
    "             \n",
    "\n",
    "s1=Student(\"Durga\",101,80) \n",
    "s1.talk()"
   ]
  },
  {
   "cell_type": "code",
   "execution_count": null,
   "metadata": {},
   "outputs": [],
   "source": [
    "# Example - 4 \n",
    "def __init__(self,name,rollno,marks): \n",
    "    self.name=name \n",
    "    self.rollno=rollno \n",
    "    self.marks=marks"
   ]
  },
  {
   "cell_type": "code",
   "execution_count": null,
   "metadata": {},
   "outputs": [],
   "source": [
    "# Example - 5\n",
    "class Test: \n",
    "    \n",
    "    def __init__(self): \n",
    "        print(\"Constructor exeuction...\") \n",
    "         \n",
    "        def m1(self):\n",
    "            print(\"Method execution...\") \n",
    "             \n",
    "t1=Test() \n",
    "t2=Test() \n",
    "t3=Test() \n",
    "t1.m1()"
   ]
  },
  {
   "cell_type": "code",
   "execution_count": null,
   "metadata": {},
   "outputs": [],
   "source": [
    "class Student: \n",
    "    ''''' This is student class with required data''' \n",
    "    \n",
    "    def __init__(self,\n",
    "                 name,\n",
    "                 rollno,\n",
    "                 marks):\n",
    "        \n",
    "        self.name= name\n",
    "        self.rollno= rollno \n",
    "        self.marks= marks \n",
    "         \n",
    "        def display(self):\n",
    "            print(f\"Student Name:{self.name}\\nRollno:{self.rollno} \\nMarks:{self.marks}\") \n",
    "             \n",
    "\n",
    "s1=Student(\"Caique\",101,80) \n",
    "s1.display()\n",
    "\n",
    "s2=Student(\"Santos\",102,100) \n",
    "s2.display()"
   ]
  },
  {
   "attachments": {},
   "cell_type": "markdown",
   "metadata": {},
   "source": [
    "|Method | Constructor|\n",
    "|--|--|\n",
    "|1) Name of method can be any name |1) Constructor name should be always __init__ |\n",
    "|2) Method will be executed if we call that method |2) Constructor will be executed automatically at the time of object creation.| \n",
    "|3) Per object, method can be called any number of times. |3) Per object, Constructor will be executed only once |\n",
    "|4) Inside method we can write business logic | 4) Inside Constructor we have to declare and initialize instance variables|"
   ]
  },
  {
   "attachments": {},
   "cell_type": "markdown",
   "metadata": {},
   "source": [
    "### Inside Constructor by using Self Variable:"
   ]
  },
  {
   "cell_type": "code",
   "execution_count": null,
   "metadata": {},
   "outputs": [],
   "source": [
    "class Employee:\n",
    "    def __init__(self):\n",
    "        self.eno=100\n",
    "        self.ename='Caique'\n",
    "        self.esal=10_000\n",
    "\n",
    "e=Employee()\n",
    "print(e.__dict__)"
   ]
  },
  {
   "attachments": {},
   "cell_type": "markdown",
   "metadata": {},
   "source": [
    "### Inside Instance Method by using Self Variable:"
   ]
  },
  {
   "cell_type": "code",
   "execution_count": null,
   "metadata": {},
   "outputs": [],
   "source": [
    "class Test:\n",
    "    def __init__(self):\n",
    "        self.a=10 \n",
    "        self.b=20 \n",
    "         \n",
    "        def m1(self): \n",
    "            self.c=30 \n",
    "             \n",
    "            \n",
    "t=Test() \n",
    "t.m1() \n",
    "print(t.__dict__)"
   ]
  },
  {
   "attachments": {},
   "cell_type": "markdown",
   "metadata": {},
   "source": [
    "### Outside of the Class by using Object Reference Variable:"
   ]
  },
  {
   "cell_type": "code",
   "execution_count": null,
   "metadata": {},
   "outputs": [],
   "source": [
    "class Test:\n",
    "\n",
    "    def __init__(self): \n",
    "        self.a=10 \n",
    "        self.b=20 \n",
    "        \n",
    "        def m1(self): \n",
    "            self.c=30 \n",
    "             \n",
    "t=Test() \n",
    "t.m1() \n",
    "t.d=40 \n",
    "print(t.__dict__)"
   ]
  },
  {
   "attachments": {},
   "cell_type": "markdown",
   "metadata": {},
   "source": [
    "### How to Access Instance Variables:"
   ]
  },
  {
   "cell_type": "code",
   "execution_count": null,
   "metadata": {},
   "outputs": [],
   "source": [
    "class Test:\n",
    "\n",
    "    def __init__(self): \n",
    "        self.a=10 \n",
    "        self.b=20 \n",
    "    \n",
    "    def display(self): \n",
    "        print(self.a) \n",
    "        print(self.b) \n",
    "        \n",
    "t=Test() \n",
    "t.display() \n",
    "\n",
    "print(t.a,t.b)"
   ]
  },
  {
   "attachments": {},
   "cell_type": "markdown",
   "metadata": {},
   "source": [
    "### How to delete Instance Variable from the Object:"
   ]
  },
  {
   "cell_type": "code",
   "execution_count": null,
   "metadata": {},
   "outputs": [],
   "source": [
    "class Test:\n",
    "    def __init__(self): \n",
    "        self.a=10 \n",
    "        self.b=20 \n",
    "        self.c=30 \n",
    "        self.d=40 \n",
    "    \n",
    "    def m1(self): \n",
    "        del self.d \n",
    " \n",
    "t=Test() \n",
    "print(t.__dict__) \n",
    "\n",
    "t.m1() \n",
    "print(t.__dict__)\n",
    " \n",
    "del t.c \n",
    "print(t.__dict__)"
   ]
  },
  {
   "cell_type": "code",
   "execution_count": null,
   "metadata": {},
   "outputs": [],
   "source": [
    "class Test: \n",
    "\n",
    "    def __init__(self):\n",
    "\n",
    "        self.a=10 \n",
    "        self.b=20 \n",
    "        self.c=30 \n",
    "        self.d=40 \n",
    "            \n",
    "t1=Test() \n",
    "t2=Test() \n",
    "\n",
    "del t1.a \n",
    "\n",
    "print(t1.__dict__)\n",
    "print(t2.__dict__)"
   ]
  },
  {
   "cell_type": "code",
   "execution_count": null,
   "metadata": {},
   "outputs": [],
   "source": [
    "class Test: \n",
    "\n",
    "    def __init__(self): \n",
    "        self.a=10 \n",
    "        self.b=20 \n",
    "     \n",
    "t1=Test() \n",
    "t1.a=888 \n",
    "\n",
    "t1.b=999 \n",
    "t2=Test() \n",
    "\n",
    "print('t1:',t1.a,t1.b) \n",
    "print('t2:',t2.a,t2.b)"
   ]
  },
  {
   "attachments": {},
   "cell_type": "markdown",
   "metadata": {},
   "source": [
    "### Instance Variable vs Static Variable:"
   ]
  },
  {
   "cell_type": "code",
   "execution_count": null,
   "metadata": {},
   "outputs": [],
   "source": [
    "class Test: \n",
    "    \n",
    "    x=10 \n",
    "    \n",
    "    def __init__(self): \n",
    "        self.y=20 \n",
    "         \n",
    "t1=Test() \n",
    "t2=Test() \n",
    "\n",
    "print('t1:',t1.x,t1.y) \n",
    "print('t2:',t2.x,t2.y) \n",
    "\n",
    "Test.x=888 \n",
    "t1.y=999 \n",
    "\n",
    "print('t1:',t1.x,t1.y) \n",
    "print('t2:',t2.x,t2.y)"
   ]
  },
  {
   "attachments": {},
   "cell_type": "markdown",
   "metadata": {},
   "source": [
    "### Various Places to declare Static Variables:"
   ]
  },
  {
   "attachments": {},
   "cell_type": "markdown",
   "metadata": {},
   "source": [
    "1) In general we can declare within the class directly but from out side of any method 2) Inside constructor by using class name 3) Inside instance method by using class name 4) Inside classmethod by using either class name or cls variable 5) Inside static method by using class name"
   ]
  },
  {
   "cell_type": "code",
   "execution_count": null,
   "metadata": {},
   "outputs": [],
   "source": [
    "class Test:\n",
    "    \n",
    "    a=10 \n",
    "    \n",
    "    def __init__(self): \n",
    "        Test.b=20 \n",
    "        \n",
    "    def m1(self):\n",
    "        Test.c=30 \n",
    "    \n",
    "    @classmethod \n",
    "    def m2(cls): \n",
    "        cls.d1=40\n",
    "        Test.d2=400 \n",
    "    \n",
    "    @staticmethod \n",
    "    def m3(): \n",
    "        Test.e=50 \n",
    "                \n",
    "                \n",
    "                \n",
    "                \n",
    "                \n",
    "print(Test.__dict__) \n",
    "\n",
    "t=Test() \n",
    "print(Test.__dict__) \n",
    "\n",
    "t.m1() \n",
    "print(Test.__dict__) \n",
    "\n",
    "Test.m2() \n",
    "print(Test.__dict__) \n",
    "\n",
    "Test.m3() \n",
    "print(Test.__dict__) \n",
    "\n",
    "Test.f=60 \n",
    "print(Test.__dict__)"
   ]
  },
  {
   "attachments": {},
   "cell_type": "markdown",
   "metadata": {},
   "source": [
    "### How to access Static Variables: "
   ]
  },
  {
   "attachments": {},
   "cell_type": "markdown",
   "metadata": {},
   "source": [
    "1) inside constructor: by using either self or classname 2) inside instance method: by using either self or classname 3) inside class method: by using either cls variable or classname 4) inside static method: by using classname 5) From outside of class: by using either object reference or classname"
   ]
  },
  {
   "cell_type": "code",
   "execution_count": null,
   "metadata": {},
   "outputs": [],
   "source": [
    "class Test: \n",
    "    \n",
    "    a=10 \n",
    "    \n",
    "    def __init__(self): \n",
    "        print(self.a) \n",
    "        print(Test.a) \n",
    "    \n",
    "    def m1(self): \n",
    "        print(self.a) \n",
    "        print(Test.a) \n",
    "    \n",
    "    @classmethod \n",
    "    def m2(cls): \n",
    "        print(cls.a) \n",
    "        print(Test.a)\n",
    "    \n",
    "    @staticmethod \n",
    "    def m3(): \n",
    "        print(Test.a) \n",
    "\n",
    "t=Test() \n",
    "print(Test.a) \n",
    "\n",
    "print(t.a) \n",
    "t.m1() \n",
    "t.m2() \n",
    "t.m3()"
   ]
  },
  {
   "attachments": {},
   "cell_type": "markdown",
   "metadata": {},
   "source": [
    "### Where we can modify the Value of Static Variable:"
   ]
  },
  {
   "cell_type": "code",
   "execution_count": null,
   "metadata": {},
   "outputs": [],
   "source": [
    "class Test: \n",
    "    a=777 \n",
    "    \n",
    "    @classmethod \n",
    "    def m1(cls):\n",
    "        cls.a=888 \n",
    "        \n",
    "    @staticmethod\n",
    "    def m2(): \n",
    "        Test.a=999 \n",
    "\n",
    "print(Test.a) \n",
    "\n",
    "Test.m1() \n",
    "print(Test.a) \n",
    "\n",
    "Test.m2() \n",
    "print(Test.a)"
   ]
  },
  {
   "cell_type": "code",
   "execution_count": null,
   "metadata": {},
   "outputs": [],
   "source": [
    "class Test: \n",
    "    \n",
    "    a=10 \n",
    "    \n",
    "    def m1(self): \n",
    "        self.a=888\n",
    "\n",
    "t1=Test() \n",
    "t1.m1() \n",
    "\n",
    "print(Test.a) \n",
    "print(t1.a)"
   ]
  },
  {
   "cell_type": "code",
   "execution_count": null,
   "metadata": {},
   "outputs": [],
   "source": [
    "class Test: \n",
    "\n",
    "    x=10 \n",
    "    def __init__(self):\n",
    "        self.y=20 \n",
    " \n",
    "t1=Test() \n",
    "t2=Test() \n",
    "\n",
    "print('t1:',t1.x,t1.y) \n",
    "print('t2:',t2.x,t2.y) \n",
    "\n",
    "t1.x=888 \n",
    "t1.y=999 \n",
    "\n",
    "print('t1:',t1.x,t1.y) \n",
    "print('t2:',t2.x,t2.y)"
   ]
  },
  {
   "cell_type": "code",
   "execution_count": null,
   "metadata": {},
   "outputs": [],
   "source": [
    "class Test:\n",
    "    a=10 \n",
    "    \n",
    "    def __init__(self): \n",
    "        self.b=20 \n",
    "\n",
    "t1=Test() \n",
    "t2=Test() \n",
    "\n",
    "Test.a=888 \n",
    "t1.b=999 \n",
    "\n",
    "print(t1.a,t1.b) \n",
    "print(t2.a,t2.b)"
   ]
  },
  {
   "cell_type": "code",
   "execution_count": null,
   "metadata": {},
   "outputs": [],
   "source": [
    "class Test: \n",
    "    a=10 \n",
    "    \n",
    "    def __init__(self):\n",
    "        self.b=20 \n",
    "    \n",
    "    def m1(self): \n",
    "        self.a=888 \n",
    "        self.b=999 \n",
    "        \n",
    "         \n",
    "t1=Test() \n",
    "t2=Test() \n",
    "t1.m1() \n",
    "\n",
    "print(t1.a,t1.b) \n",
    "print(t2.a,t2.b)"
   ]
  },
  {
   "cell_type": "code",
   "execution_count": null,
   "metadata": {},
   "outputs": [],
   "source": [
    "class Test: \n",
    "    a=10 \n",
    "    \n",
    "    def __init__(self): \n",
    "        self.b=20 \n",
    "    \n",
    "    @classmethod \n",
    "    def m1(cls): \n",
    "        cls.a=888 \n",
    "        cls.b=999 \n",
    "        \n",
    " \n",
    "t1=Test() \n",
    "t2=Test() \n",
    "t1.m1() \n",
    "\n",
    "print(t1.a,t1.b) \n",
    "print(t2.a,t2.b) \n",
    "print(Test.a,Test.b)"
   ]
  },
  {
   "attachments": {},
   "cell_type": "markdown",
   "metadata": {},
   "source": [
    "### How to Delete Static Variables of a Class:"
   ]
  },
  {
   "attachments": {},
   "cell_type": "markdown",
   "metadata": {},
   "source": [
    "1) We can delete static variables from anywhere by using the following syntax del classname.variablename"
   ]
  },
  {
   "attachments": {},
   "cell_type": "markdown",
   "metadata": {},
   "source": [
    "2) But inside classmethod we can also use cls variable del cls.variablename"
   ]
  },
  {
   "cell_type": "code",
   "execution_count": null,
   "metadata": {},
   "outputs": [],
   "source": [
    "class Test: \n",
    "    a=10 \n",
    "    \n",
    "    @classmethod \n",
    "    def m1(cls): \n",
    "        del cls.a \n",
    "        \n",
    "Test.m1()\n",
    "print(Test.__dict__)"
   ]
  },
  {
   "cell_type": "code",
   "execution_count": null,
   "metadata": {},
   "outputs": [],
   "source": [
    "# Example -  \n",
    "class Test: \n",
    "    \n",
    "    a=10 \n",
    "    \n",
    "    def __init__(self): \n",
    "        Test.b=20 \n",
    "        del Test.a \n",
    "        \n",
    "    def m1(self): \n",
    "        Test.c=30 \n",
    "        del Test.b \n",
    "    \n",
    "    @classmethod \n",
    "    def m2(cls): \n",
    "        cls.d=40 \n",
    "        del Test.c \n",
    "    \n",
    "    @staticmethod \n",
    "    def m3(): \n",
    "        Test.e=50 \n",
    "        del Test.d \n",
    "        \n",
    "        \n",
    "print(Test.__dict__) \n",
    "t=Test()\n",
    " \n",
    "print(Test.__dict__) \n",
    "t.m1() \n",
    "\n",
    "print(Test.__dict__) \n",
    "Test.m2() \n",
    "\n",
    "print(Test.__dict__) \n",
    "Test.m3() \n",
    "\n",
    "print(Test.__dict__) \n",
    "Test.f=60 \n",
    "\n",
    "print(Test.__dict__)\n",
    "del Test.e \n",
    "print(Test.__dict__)"
   ]
  },
  {
   "cell_type": "code",
   "execution_count": null,
   "metadata": {},
   "outputs": [],
   "source": [
    "# Example -  \n",
    "class Test: \n",
    "    a=10 \n",
    "\n",
    "t1=Test() \n",
    "del t1.a"
   ]
  },
  {
   "cell_type": "code",
   "execution_count": null,
   "metadata": {},
   "outputs": [],
   "source": [
    "import sys \n",
    "\n",
    "\n",
    "class Customer: \n",
    "    ''''' Customer class with bank operations.. ''' \n",
    "    bankname='DURGABANK' \n",
    "    \n",
    "    def __init__(self,name,balance=0.0): \n",
    "        self.name=name \n",
    "        self.balance=balance \n",
    "    \n",
    "    def deposit(self,amt): \n",
    "        self.balance=self.balance+amt \n",
    "        print('Balance after deposit:',self.balance) \n",
    "    \n",
    "    def withdraw(self,amt): \n",
    "        if amt>self.balance: \n",
    "            print('Insufficient Funds..cannot perform this operation') \n",
    "            sys.exit() \n",
    "        self.balance=self.balance-amt \n",
    "        print('Balance after withdraw:',self.balance)\n",
    "\n",
    "\n",
    "print('Welcome to',Customer.bankname) \n",
    "name=input('Enter Your Name:') \n",
    "c=Customer(name)\n",
    "\n",
    "while True: \n",
    "    print('d-Deposit \\nw-Withdraw \\ne-exit') \n",
    "    option=input('Choose your option:')\n",
    "    \n",
    "    if option=='d' or option=='D': \n",
    "        amt=float(input('Enter amount:')) \n",
    "        c.deposit(amt) \n",
    "    \n",
    "    elif option=='w' or option=='W': \n",
    "        amt=float(input('Enter amount:')) \n",
    "        c.withdraw(amt) \n",
    "    \n",
    "    elif option=='e' or option=='E': \n",
    "        print('Thanks for Banking') \n",
    "        sys.exit() \n",
    "    \n",
    "    else:\n",
    "        print('Invalid option..Plz choose valid option')"
   ]
  },
  {
   "attachments": {},
   "cell_type": "markdown",
   "metadata": {},
   "source": [
    "### 3) Local Variables:"
   ]
  },
  {
   "cell_type": "code",
   "execution_count": null,
   "metadata": {},
   "outputs": [],
   "source": [
    "class Test: \n",
    "    def m1(self): \n",
    "        a=1000 \n",
    "        print(a) \n",
    "    \n",
    "    def m2(self): \n",
    "        b=2000 \n",
    "        print(b) \n",
    "\n",
    "t=Test()\n",
    "t.m1() \n",
    "t.m2()"
   ]
  },
  {
   "cell_type": "code",
   "execution_count": null,
   "metadata": {},
   "outputs": [],
   "source": [
    "class Test: \n",
    "    \n",
    "    def m1(self): \n",
    "        a=1000 \n",
    "        print(a) \n",
    "    \n",
    "    def m2(self): \n",
    "        b=2000\n",
    "\n",
    "print(a) #NameError: name 'a' is not defined 8) print(b) 9) t=Test() 10) t.m1() 11) t.m2()"
   ]
  },
  {
   "attachments": {},
   "cell_type": "markdown",
   "metadata": {},
   "source": [
    "### Types of Methods: \n",
    "Inside Python class 3 types of methods are allowed\n",
    "1) Instance Methods 2) Class Methods 3) Static Methods"
   ]
  },
  {
   "attachments": {},
   "cell_type": "markdown",
   "metadata": {},
   "source": [
    "#### 1) Instance Methods:"
   ]
  },
  {
   "cell_type": "code",
   "execution_count": null,
   "metadata": {},
   "outputs": [],
   "source": [
    "1) class Student: \n",
    "    2) def __init__(self,name,marks): \n",
    "        3) self.name=name \n",
    "        4) self.marks=marks \n",
    "        5) def display(self): \n",
    "            6) print('Hi',self.name) \n",
    "            7) print('Your Marks are:',self.marks) \n",
    "            8) def grade(self): \n",
    "                9) if self.marks>=60: \n",
    "                    10) print('You got First Grade') \n",
    "                    11) elif self.marks>=50: \n",
    "                        12) print('Yout got Second Grade') \n",
    "                        13) elif self.marks>=35: \n",
    "                            14) print('You got Third Grade') \n",
    "                            15) else: \n",
    "                                16) print('You are Failed') \n",
    "                                17) n=int(input('Enter number of students:')) \n",
    "                                18) for i in range(n): \n",
    "                                19) name=input('Enter Name:') \n",
    "                                20) marks=int(input('Enter Marks:')) \n",
    "                                21) s= Student(name,marks) \n",
    "                                22) s.display() \n",
    "                                23) s.grade() \n",
    "                                24) print()"
   ]
  },
  {
   "cell_type": "code",
   "execution_count": null,
   "metadata": {},
   "outputs": [],
   "source": [
    "class Student: \n",
    "    2) def setName(self,name): \n",
    "        3) self.name=name5) def getName(self): \n",
    "            6) return self.name\n",
    "            ) \n",
    "            8) def setMarks(self,marks): \n",
    "                9) self.marks=marks \n",
    "                10) \n",
    "                11) def getMarks(self): \n",
    "                    12) return self.marks \n",
    "                    13) \n",
    "                    14) n=int(input('Enter number of students:')) \n",
    "                    15) for i in range(n): \n",
    "                        16) s=Student() \n",
    "                        17) name=input('Enter Name:') \n",
    "                        18) s.setName(name) \n",
    "                        19) marks=int(input('Enter Marks:')) \n",
    "                        20) s.setMarks(marks) \n",
    "                        21) \n",
    "                        22) print('Hi',s.getName()) \n",
    "                        23) print('Your Marks are:',s.getMarks()) \n",
    "                        24) print()"
   ]
  },
  {
   "attachments": {},
   "cell_type": "markdown",
   "metadata": {},
   "source": [
    "#### 2) Class Methods:"
   ]
  },
  {
   "cell_type": "code",
   "execution_count": null,
   "metadata": {},
   "outputs": [],
   "source": [
    "1) class Animal: \n",
    "    2) lEgs=4 \n",
    "    3) @classmethod \n",
    "    4) def walk(cls,name): \n",
    "        5) print('{} walks with {} lEgs...'.format(name,cls.lEgs)) \n",
    "        6) Animal.walk('Dog') \n",
    "        7) Animal.walk('Cat')"
   ]
  },
  {
   "cell_type": "code",
   "execution_count": null,
   "metadata": {},
   "outputs": [],
   "source": [
    "1) class Test: \n",
    "    2) count=0 \n",
    "    3) def __init__(self): \n",
    "        4) Test.count =Test.count+1 \n",
    "        5) @classmethod \n",
    "        6) def noOfObjects(cls): \n",
    "            7) print('The number of objects created for test class:',cls.count) \n",
    "            8) \n",
    "            9) t1=Test() \n",
    "            10) t2=Test() \n",
    "            11) Test.noOfObjects() \n",
    "            12) t3=Test() \n",
    "            13) t4=Test() \n",
    "            14) t5=Test() \n",
    "            15) Test.noOfObjects()"
   ]
  },
  {
   "attachments": {},
   "cell_type": "markdown",
   "metadata": {},
   "source": [
    "#### 3) Static Methods:"
   ]
  },
  {
   "cell_type": "code",
   "execution_count": null,
   "metadata": {},
   "outputs": [],
   "source": [
    "1) class DurgaMath: \n",
    "    2) \n",
    "    3) @staticmethod \n",
    "    4) def add(x,y): \n",
    "        5) print('The Sum:',x+y)\n",
    "        7) @staticmethod \n",
    "        8) def product(x,y): \n",
    "            9) print('The Product:',x*y)\n",
    "            10) \n",
    "            11) @staticmethod \n",
    "            12) def average(x,y): \n",
    "                13) print('The average:',(x+y)/2) \n",
    "                14) \n",
    "                15) DurgaMath.add(10,20) \n",
    "                16) DurgaMath.product(10,20) \n",
    "                17) DurgaMath.average(10,20)"
   ]
  },
  {
   "attachments": {},
   "cell_type": "markdown",
   "metadata": {},
   "source": [
    "### Passing Members of One Class to Another Class:"
   ]
  },
  {
   "cell_type": "code",
   "execution_count": null,
   "metadata": {},
   "outputs": [],
   "source": [
    "1) class Employee: \n",
    "    2) def __init__(self,eno,ename,esal): \n",
    "        3) self.eno=eno \n",
    "        4) self.ename=ename \n",
    "        5) self.esal=esal \n",
    "        6) def display(self): \n",
    "            7) print('Employee Number:',self.eno) \n",
    "            8) print('Employee Name:',self.ename) \n",
    "            9) print('Employee Salary:',self.esal) \n",
    "            10) class Test: \n",
    "                11) def modify(emp):\n",
    "                12) emp.esal=emp.esal+10000 \n",
    "                13) emp.display() \n",
    "                14) e=Employee(100,'Durga',10000) \n",
    "                15) Test.modify(e)"
   ]
  },
  {
   "attachments": {},
   "cell_type": "markdown",
   "metadata": {},
   "source": [
    "### Inner Classes"
   ]
  },
  {
   "cell_type": "code",
   "execution_count": null,
   "metadata": {},
   "outputs": [],
   "source": [
    "Demo Program-1: \n",
    "    1) class Outer: \n",
    "        2) def __init__(self): \n",
    "            3) print(\"outer class object creation\") \n",
    "            4) class Inner: \n",
    "                5) def __init__(self): \n",
    "                    6) print(\"inner class object creation\") \n",
    "                    7) def m1(self): \n",
    "                        8) print(\"inner class method\") \n",
    "                        9) o=Outer() \n",
    "                        10) i=o.Inner() \n",
    "                        11) i.m1()"
   ]
  },
  {
   "cell_type": "code",
   "execution_count": null,
   "metadata": {},
   "outputs": [],
   "source": [
    "Demo Program-2: \n",
    "    1) class Person: \n",
    "        2) def __init__(self): \n",
    "            3) self.name='durga' \n",
    "            4) self.db=self.Dob() \n",
    "            5) def display(self): \n",
    "                6) print('Name:',self.name)\n",
    "                7) class Dob: \n",
    "                    8) def __init__(self): \n",
    "                        9) self.dd=10 \n",
    "                        10) self.mm=5 \n",
    "                        11) self.yy=1947\n",
    "                        12) def display(self): \n",
    "                            13) print('Dob={}/{}/{}'.format(self.dd,self.mm,self.yy))\n",
    "                            14) p=Person() \n",
    "                            15) p.display() \n",
    "                            16) x=p.db \n",
    "                            17) x.display()"
   ]
  },
  {
   "cell_type": "code",
   "execution_count": null,
   "metadata": {},
   "outputs": [],
   "source": [
    "1) class Human: \n",
    "    2) \n",
    "    3) def __init__(self): \n",
    "        4) self.name = 'Sunny' \n",
    "        5) self.head = self.Head() \n",
    "        6) self.brain = self.Brain() \n",
    "        7) def display(self): \n",
    "            8) print(\"Hello..\",self.name) \n",
    "            9) \n",
    "            10) class Head: \n",
    "                11) def talk(self): \n",
    "                    12) print('Talking...') \n",
    "                    13) \n",
    "                    14) class Brain: \n",
    "                        15) def think(self): \n",
    "                            16) print('Thinking...') \n",
    "                            17) \n",
    "                            18) h=Human() \n",
    "                            19) h.display() \n",
    "                            20) h.head.talk() \n",
    "                            21) h.brain.think()"
   ]
  },
  {
   "attachments": {},
   "cell_type": "markdown",
   "metadata": {},
   "source": [
    "### Garbage Collection"
   ]
  },
  {
   "cell_type": "code",
   "execution_count": null,
   "metadata": {},
   "outputs": [],
   "source": [
    "1) import gc \n",
    "2) print(gc.isenabled()) \n",
    "3) gc.disable() \n",
    "4) print(gc.isenabled()) \n",
    "5) gc.enable() \n",
    "6) print(gc.isenabled())"
   ]
  },
  {
   "cell_type": "code",
   "execution_count": null,
   "metadata": {},
   "outputs": [],
   "source": [
    "1) import time \n",
    "2) class Test: \n",
    "    3) def __init__(self): \n",
    "        4) print(\"Object Initialization...\") \n",
    "        5) def __del__(self): \n",
    "            6) print(\"Fulfilling Last Wish and performing clean up activities...\") \n",
    "            7) \n",
    "            8) t1=Test() \n",
    "            9) t1=None \n",
    "            10) time.sleep(5) \n",
    "            11) print(\"End of application\")"
   ]
  },
  {
   "cell_type": "code",
   "execution_count": null,
   "metadata": {},
   "outputs": [],
   "source": [
    "1) import time \n",
    "2) class Test: \n",
    "    3) def __init__(self): \n",
    "        4) print(\"Constructor Execution...\") \n",
    "        5) def __del__(self): \n",
    "            6) print(\"Destructor Execution...\") \n",
    "            7) \n",
    "            8) t1=Test() \n",
    "            9) t2=t1 \n",
    "            10) t3=t2 \n",
    "            11) del t1 \n",
    "            12) time.sleep(5) \n",
    "            13) print(print(\"object not yet destroyed after deleting t1\") \n",
    "                      14) del t2\n",
    "                      15) time.sleep(5) \n",
    "                      16) print(\"object not yet destroyed even after deleting t2\") \n",
    "                      17) print(\"I am trying to delete last reference variable...\") \n",
    "                      18) del t3"
   ]
  },
  {
   "cell_type": "code",
   "execution_count": null,
   "metadata": {},
   "outputs": [],
   "source": [
    "Example: 1) \n",
    "import time \n",
    ") class Test: \n",
    "    3) def __init__(self): \n",
    "        4) print(\"Constructor Execution...\") \n",
    "        5) def __del__(self): \n",
    "            6) print(\"Destructor Execution...\") \n",
    "            7) \n",
    "            8) list=[Test(),Test(),Test()] \n",
    "            9) del list \n",
    "            10) time.sleep(5) \n",
    "            11) print(\"End of application\")"
   ]
  },
  {
   "attachments": {},
   "cell_type": "markdown",
   "metadata": {},
   "source": [
    "#### How to find the Number of References of an Object:"
   ]
  },
  {
   "cell_type": "code",
   "execution_count": null,
   "metadata": {},
   "outputs": [],
   "source": [
    "1) import sys \n",
    "2) class Test: \n",
    "    3) pass \n",
    "    4) t1=Test() \n",
    "    5) t2=t1 \n",
    "    6) t3=t1 \n",
    "    7) t4=t1 \n",
    "    8) print(sys.getrefcount(t1))"
   ]
  },
  {
   "cell_type": "code",
   "execution_count": null,
   "metadata": {},
   "outputs": [],
   "source": [
    "%reload_ext watermark\n",
    "%watermark -a \"Caique Miranda\" -gu \"caiquemiranda\" -iv"
   ]
  },
  {
   "attachments": {},
   "cell_type": "markdown",
   "metadata": {},
   "source": [
    "### End."
   ]
  }
 ],
 "metadata": {
  "kernelspec": {
   "display_name": "Python 3",
   "language": "python",
   "name": "python3"
  },
  "language_info": {
   "name": "python",
   "version": "3.10.5"
  },
  "orig_nbformat": 4,
  "vscode": {
   "interpreter": {
    "hash": "74af3d2f25f1e46ebd2903d59225d79e4675ec224d56c01fc30cd168c2010d53"
   }
  }
 },
 "nbformat": 4,
 "nbformat_minor": 2
}
