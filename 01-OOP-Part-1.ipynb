{
 "cells": [
  {
   "cell_type": "code",
   "execution_count": null,
   "metadata": {},
   "outputs": [],
   "source": [
    "# Versão da Linguagem Python\n",
    "\n",
    "from platform import python_version\n",
    "print('Versão de Python Neste Jupyter Notebook:', python_version())"
   ]
  },
  {
   "cell_type": "code",
   "execution_count": null,
   "metadata": {},
   "outputs": [],
   "source": [
    "import warnings\n",
    "warnings.filterwarnings('ignore')"
   ]
  },
  {
   "cell_type": "code",
   "execution_count": null,
   "metadata": {},
   "outputs": [],
   "source": [
    "# Syntax: \n",
    "# class className: \n",
    "#   ''' documenttation string ''' \n",
    "#   variables: instance variables, static and local variables \n",
    "#   methods: instance methods, static methods, class methods"
   ]
  },
  {
   "cell_type": "code",
   "execution_count": null,
   "metadata": {},
   "outputs": [],
   "source": [
    "# 1) print(classname.__doc__) \n",
    "# 2) help(classname)"
   ]
  },
  {
   "cell_type": "code",
   "execution_count": null,
   "metadata": {},
   "outputs": [],
   "source": [
    "# Example - 001\n",
    "class Student: \n",
    "    ''''' This is student class with required data'''  \n",
    "    \n",
    "    print(Student.__doc__)\n",
    "    help(Student)"
   ]
  },
  {
   "cell_type": "code",
   "execution_count": null,
   "metadata": {},
   "outputs": [],
   "source": [
    "# Example - 002 \n",
    "class Student:\n",
    "    '''''Developed by durga for python demo''' \n",
    "    def __init__(self): \n",
    "    \n",
    "        self.name='Miranda' \n",
    "        self.age=40 \n",
    "        self.marks=80 \n",
    "        \n",
    "    def talk(self): \n",
    "        \n",
    "        print(\"Hello I am :\",self.name) \n",
    "        print(\"My Age is:\",self.age) \n",
    "        print(\"My Marks are:\",self.marks)"
   ]
  },
  {
   "cell_type": "code",
   "execution_count": null,
   "metadata": {},
   "outputs": [],
   "source": [
    "# Example - 003\n",
    "class Student: \n",
    "    \n",
    "    def __init__(self,name,rollno,marks): \n",
    "        \n",
    "        self.name=name \n",
    "        self.rollno=rollno \n",
    "        self.marks=marks\n",
    "        \n",
    "        def talk(self):\n",
    "            \n",
    "            print(\"Hello My Name is:\",self.name) \n",
    "            print(\"My Rollno is:\",self.rollno) \n",
    "            print(\"My Marks are:\",self.marks) \n",
    "             \n",
    "\n",
    "s1=Student(\"Miranda\",101,80) \n",
    "s1.talk()"
   ]
  },
  {
   "cell_type": "code",
   "execution_count": null,
   "metadata": {},
   "outputs": [],
   "source": [
    "# Example - 004 \n",
    "def __init__(self,name,rollno,marks): \n",
    "    \n",
    "    self.name=name \n",
    "    self.rollno=rollno \n",
    "    self.marks=marks"
   ]
  },
  {
   "cell_type": "code",
   "execution_count": null,
   "metadata": {},
   "outputs": [],
   "source": [
    "# Example - 005\n",
    "class Test: \n",
    "    \n",
    "    def __init__(self): \n",
    "        print(\"Constructor exeuction...\") \n",
    "         \n",
    "        def m1(self):\n",
    "            print(\"Method execution...\") \n",
    "             \n",
    "t1=Test() \n",
    "t2=Test() \n",
    "t3=Test() \n",
    "t1.m1()"
   ]
  },
  {
   "cell_type": "code",
   "execution_count": null,
   "metadata": {},
   "outputs": [],
   "source": [
    "# Example - 006\n",
    "class Student: \n",
    "    ''''' This is student class with required data''' \n",
    "    \n",
    "    def __init__(self,\n",
    "                 name,\n",
    "                 rollno,\n",
    "                 marks):\n",
    "        \n",
    "        self.name= name\n",
    "        self.rollno= rollno \n",
    "        self.marks= marks \n",
    "         \n",
    "        def display(self):\n",
    "            print(f\"Student Name:{self.name}\\nRollno:{self.rollno} \\nMarks:{self.marks}\") \n",
    "             \n",
    "\n",
    "s1=Student(\"Caique\",101,80) \n",
    "s1.display()\n",
    "\n",
    "s2=Student(\"Santos\",102,100) \n",
    "s2.display()"
   ]
  },
  {
   "attachments": {},
   "cell_type": "markdown",
   "metadata": {},
   "source": [
    "|Method | Constructor|\n",
    "|--|--|\n",
    "|1) Name of method can be any name |1) Constructor name should be always __init__ |\n",
    "|2) Method will be executed if we call that method |2) Constructor will be executed automatically at the time of object creation.| \n",
    "|3) Per object, method can be called any number of times. |3) Per object, Constructor will be executed only once |\n",
    "|4) Inside method we can write business logic | 4) Inside Constructor we have to declare and initialize instance variables|"
   ]
  },
  {
   "attachments": {},
   "cell_type": "markdown",
   "metadata": {},
   "source": [
    "### Inside Constructor by using Self Variable:"
   ]
  },
  {
   "cell_type": "code",
   "execution_count": null,
   "metadata": {},
   "outputs": [],
   "source": [
    "# Example - 007\n",
    "class Employee:\n",
    "    \n",
    "    def __init__(self):\n",
    "        self.eno=100\n",
    "        self.ename='Caique'\n",
    "        self.esal=10_000\n",
    "\n",
    "e=Employee()\n",
    "print(e.__dict__)"
   ]
  },
  {
   "attachments": {},
   "cell_type": "markdown",
   "metadata": {},
   "source": [
    "### Inside Instance Method by using Self Variable:"
   ]
  },
  {
   "cell_type": "code",
   "execution_count": null,
   "metadata": {},
   "outputs": [],
   "source": [
    "# Example - 7\n",
    "class Test:\n",
    "    def __init__(self):\n",
    "        self.a=10 \n",
    "        self.b=20 \n",
    "         \n",
    "        def m1(self): \n",
    "            self.c=30 \n",
    "             \n",
    "            \n",
    "t=Test() \n",
    "t.m1() \n",
    "print(t.__dict__)"
   ]
  },
  {
   "attachments": {},
   "cell_type": "markdown",
   "metadata": {},
   "source": [
    "### Outside of the Class by using Object Reference Variable:"
   ]
  },
  {
   "cell_type": "code",
   "execution_count": null,
   "metadata": {},
   "outputs": [],
   "source": [
    "# Example - 8\n",
    "class Test:\n",
    "\n",
    "    def __init__(self): \n",
    "        self.a=10 \n",
    "        self.b=20 \n",
    "        \n",
    "        def m1(self): \n",
    "            self.c=30 \n",
    "             \n",
    "t=Test() \n",
    "t.m1() \n",
    "t.d=40 \n",
    "print(t.__dict__)"
   ]
  },
  {
   "attachments": {},
   "cell_type": "markdown",
   "metadata": {},
   "source": [
    "### How to Access Instance Variables:"
   ]
  },
  {
   "cell_type": "code",
   "execution_count": null,
   "metadata": {},
   "outputs": [],
   "source": [
    "# Example - 9\n",
    "class Test:\n",
    "\n",
    "    def __init__(self): \n",
    "        self.a=10 \n",
    "        self.b=20 \n",
    "    \n",
    "    def display(self): \n",
    "        print(self.a) \n",
    "        print(self.b) \n",
    "        \n",
    "t=Test() \n",
    "t.display() \n",
    "\n",
    "print(t.a,t.b)"
   ]
  },
  {
   "attachments": {},
   "cell_type": "markdown",
   "metadata": {},
   "source": [
    "### How to delete Instance Variable from the Object:"
   ]
  },
  {
   "cell_type": "code",
   "execution_count": null,
   "metadata": {},
   "outputs": [],
   "source": [
    "# Example - 10\n",
    "class Test:\n",
    "    def __init__(self): \n",
    "        self.a=10 \n",
    "        self.b=20 \n",
    "        self.c=30 \n",
    "        self.d=40 \n",
    "    \n",
    "    def m1(self): \n",
    "        del self.d \n",
    " \n",
    "t=Test() \n",
    "print(t.__dict__) \n",
    "\n",
    "t.m1() \n",
    "print(t.__dict__)\n",
    " \n",
    "del t.c \n",
    "print(t.__dict__)"
   ]
  },
  {
   "cell_type": "code",
   "execution_count": null,
   "metadata": {},
   "outputs": [],
   "source": [
    "# Example - 11\n",
    "class Test: \n",
    "\n",
    "    def __init__(self):\n",
    "\n",
    "        self.a=10 \n",
    "        self.b=20 \n",
    "        self.c=30 \n",
    "        self.d=40 \n",
    "            \n",
    "t1=Test() \n",
    "t2=Test() \n",
    "\n",
    "del t1.a \n",
    "\n",
    "print(t1.__dict__)\n",
    "print(t2.__dict__)"
   ]
  },
  {
   "cell_type": "code",
   "execution_count": null,
   "metadata": {},
   "outputs": [],
   "source": [
    "# Example - 12\n",
    "class Test: \n",
    "\n",
    "    def __init__(self): \n",
    "        self.a=10 \n",
    "        self.b=20 \n",
    "     \n",
    "t1=Test() \n",
    "t1.a=888 \n",
    "\n",
    "t1.b=999 \n",
    "t2=Test() \n",
    "\n",
    "print('t1:',t1.a,t1.b) \n",
    "print('t2:',t2.a,t2.b)"
   ]
  },
  {
   "attachments": {},
   "cell_type": "markdown",
   "metadata": {},
   "source": [
    "### Instance Variable vs Static Variable:"
   ]
  },
  {
   "cell_type": "code",
   "execution_count": null,
   "metadata": {},
   "outputs": [],
   "source": [
    "# Example - 13\n",
    "class Test: \n",
    "    \n",
    "    x=10 \n",
    "    \n",
    "    def __init__(self): \n",
    "        self.y=20 \n",
    "         \n",
    "t1=Test() \n",
    "t2=Test() \n",
    "\n",
    "print('t1:',t1.x,t1.y) \n",
    "print('t2:',t2.x,t2.y) \n",
    "\n",
    "Test.x=888 \n",
    "t1.y=999 \n",
    "\n",
    "print('t1:',t1.x,t1.y) \n",
    "print('t2:',t2.x,t2.y)"
   ]
  },
  {
   "attachments": {},
   "cell_type": "markdown",
   "metadata": {},
   "source": [
    "### Various Places to declare Static Variables:"
   ]
  },
  {
   "attachments": {},
   "cell_type": "markdown",
   "metadata": {},
   "source": [
    "1) In general we can declare within the class directly but from out side of any method 2) Inside constructor by using class name 3) Inside instance method by using class name 4) Inside classmethod by using either class name or cls variable 5) Inside static method by using class name"
   ]
  },
  {
   "cell_type": "code",
   "execution_count": null,
   "metadata": {},
   "outputs": [],
   "source": [
    "# Example - 14\n",
    "class Test:\n",
    "    \n",
    "    a=10 \n",
    "    \n",
    "    def __init__(self): \n",
    "        Test.b=20 \n",
    "        \n",
    "    def m1(self):\n",
    "        Test.c=30 \n",
    "    \n",
    "    @classmethod \n",
    "    def m2(cls): \n",
    "        cls.d1=40\n",
    "        Test.d2=400 \n",
    "    \n",
    "    @staticmethod \n",
    "    def m3(): \n",
    "        Test.e=50 \n",
    "                \n",
    "                  \n",
    "print(Test.__dict__) \n",
    "\n",
    "t=Test() \n",
    "print(Test.__dict__) \n",
    "\n",
    "t.m1() \n",
    "print(Test.__dict__) \n",
    "\n",
    "Test.m2() \n",
    "print(Test.__dict__) \n",
    "\n",
    "Test.m3() \n",
    "print(Test.__dict__) \n",
    "\n",
    "Test.f=60 \n",
    "print(Test.__dict__)"
   ]
  },
  {
   "attachments": {},
   "cell_type": "markdown",
   "metadata": {},
   "source": [
    "### How to access Static Variables: "
   ]
  },
  {
   "attachments": {},
   "cell_type": "markdown",
   "metadata": {},
   "source": [
    "1) inside constructor: by using either self or classname 2) inside instance method: by using either self or classname 3) inside class method: by using either cls variable or classname 4) inside static method: by using classname 5) From outside of class: by using either object reference or classname"
   ]
  },
  {
   "cell_type": "code",
   "execution_count": null,
   "metadata": {},
   "outputs": [],
   "source": [
    "# Example - 15 \n",
    "class Test: \n",
    "    \n",
    "    a=10 \n",
    "    \n",
    "    def __init__(self): \n",
    "        print(self.a) \n",
    "        print(Test.a) \n",
    "    \n",
    "    def m1(self): \n",
    "        print(self.a) \n",
    "        print(Test.a) \n",
    "    \n",
    "    @classmethod \n",
    "    def m2(cls): \n",
    "        print(cls.a) \n",
    "        print(Test.a)\n",
    "    \n",
    "    @staticmethod \n",
    "    def m3(): \n",
    "        print(Test.a) \n",
    "\n",
    "t=Test() \n",
    "print(Test.a) \n",
    "\n",
    "print(t.a) \n",
    "t.m1() \n",
    "t.m2() \n",
    "t.m3()"
   ]
  },
  {
   "attachments": {},
   "cell_type": "markdown",
   "metadata": {},
   "source": [
    "### Where we can modify the Value of Static Variable:"
   ]
  },
  {
   "cell_type": "code",
   "execution_count": null,
   "metadata": {},
   "outputs": [],
   "source": [
    "# Example - 16\n",
    "class Test: \n",
    "    a=777 \n",
    "    \n",
    "    @classmethod \n",
    "    def m1(cls):\n",
    "        cls.a=888 \n",
    "        \n",
    "    @staticmethod\n",
    "    def m2(): \n",
    "        Test.a=999 \n",
    "\n",
    "print(Test.a) \n",
    "\n",
    "Test.m1() \n",
    "print(Test.a) \n",
    "\n",
    "Test.m2() \n",
    "print(Test.a)"
   ]
  },
  {
   "cell_type": "code",
   "execution_count": null,
   "metadata": {},
   "outputs": [],
   "source": [
    "# Example - 17\n",
    "class Test: \n",
    "    \n",
    "    a=10 \n",
    "    \n",
    "    def m1(self): \n",
    "        self.a=888\n",
    "\n",
    "t1=Test() \n",
    "t1.m1() \n",
    "\n",
    "print(Test.a) \n",
    "print(t1.a)"
   ]
  },
  {
   "cell_type": "code",
   "execution_count": null,
   "metadata": {},
   "outputs": [],
   "source": [
    "# Example - 18\n",
    "class Test: \n",
    "\n",
    "    x=10 \n",
    "    def __init__(self):\n",
    "        self.y=20 \n",
    " \n",
    "t1=Test() \n",
    "t2=Test() \n",
    "\n",
    "print('t1:',t1.x,t1.y) \n",
    "print('t2:',t2.x,t2.y) \n",
    "\n",
    "t1.x=888 \n",
    "t1.y=999 \n",
    "\n",
    "print('t1:',t1.x,t1.y) \n",
    "print('t2:',t2.x,t2.y)"
   ]
  },
  {
   "cell_type": "code",
   "execution_count": null,
   "metadata": {},
   "outputs": [],
   "source": [
    "# Example - 19\n",
    "class Test:\n",
    "    a=10 \n",
    "    \n",
    "    def __init__(self): \n",
    "        self.b=20 \n",
    "\n",
    "t1=Test() \n",
    "t2=Test() \n",
    "\n",
    "Test.a=888 \n",
    "t1.b=999 \n",
    "\n",
    "print(t1.a,t1.b) \n",
    "print(t2.a,t2.b)"
   ]
  },
  {
   "cell_type": "code",
   "execution_count": null,
   "metadata": {},
   "outputs": [],
   "source": [
    "# Example - 20\n",
    "class Test: \n",
    "    a=10 \n",
    "    \n",
    "    def __init__(self):\n",
    "        self.b=20 \n",
    "    \n",
    "    def m1(self): \n",
    "        self.a=888 \n",
    "        self.b=999 \n",
    "        \n",
    "         \n",
    "t1=Test() \n",
    "t2=Test() \n",
    "t1.m1() \n",
    "\n",
    "print(t1.a,t1.b) \n",
    "print(t2.a,t2.b)"
   ]
  },
  {
   "cell_type": "code",
   "execution_count": null,
   "metadata": {},
   "outputs": [],
   "source": [
    "# Example - 21\n",
    "class Test: \n",
    "    a=10 \n",
    "    \n",
    "    def __init__(self): \n",
    "        self.b=20 \n",
    "    \n",
    "    @classmethod \n",
    "    def m1(cls): \n",
    "        cls.a=888 \n",
    "        cls.b=999 \n",
    "        \n",
    " \n",
    "t1=Test() \n",
    "t2=Test() \n",
    "t1.m1() \n",
    "\n",
    "print(t1.a,t1.b) \n",
    "print(t2.a,t2.b) \n",
    "print(Test.a,Test.b)"
   ]
  },
  {
   "attachments": {},
   "cell_type": "markdown",
   "metadata": {},
   "source": [
    "### How to Delete Static Variables of a Class:"
   ]
  },
  {
   "attachments": {},
   "cell_type": "markdown",
   "metadata": {},
   "source": [
    "1) We can delete static variables from anywhere by using the following syntax del classname.variablename"
   ]
  },
  {
   "attachments": {},
   "cell_type": "markdown",
   "metadata": {},
   "source": [
    "2) But inside classmethod we can also use cls variable del cls.variablename"
   ]
  },
  {
   "cell_type": "code",
   "execution_count": null,
   "metadata": {},
   "outputs": [],
   "source": [
    "# Example - 22\n",
    "class Test: \n",
    "    a=10 \n",
    "    \n",
    "    @classmethod \n",
    "    def m1(cls): \n",
    "        del cls.a \n",
    "        \n",
    "Test.m1()\n",
    "print(Test.__dict__)"
   ]
  },
  {
   "cell_type": "code",
   "execution_count": null,
   "metadata": {},
   "outputs": [],
   "source": [
    "# Example - 23\n",
    "class Test: \n",
    "    \n",
    "    a=10 \n",
    "    \n",
    "    def __init__(self): \n",
    "        Test.b=20 \n",
    "        del Test.a \n",
    "        \n",
    "    def m1(self): \n",
    "        Test.c=30 \n",
    "        del Test.b \n",
    "    \n",
    "    @classmethod \n",
    "    def m2(cls): \n",
    "        cls.d=40 \n",
    "        del Test.c \n",
    "    \n",
    "    @staticmethod \n",
    "    def m3(): \n",
    "        Test.e=50 \n",
    "        del Test.d \n",
    "        \n",
    "        \n",
    "print(Test.__dict__) \n",
    "t=Test()\n",
    " \n",
    "print(Test.__dict__) \n",
    "t.m1() \n",
    "\n",
    "print(Test.__dict__) \n",
    "Test.m2() \n",
    "\n",
    "print(Test.__dict__) \n",
    "Test.m3() \n",
    "\n",
    "print(Test.__dict__) \n",
    "Test.f=60 \n",
    "\n",
    "print(Test.__dict__)\n",
    "del Test.e \n",
    "print(Test.__dict__)"
   ]
  },
  {
   "cell_type": "code",
   "execution_count": null,
   "metadata": {},
   "outputs": [],
   "source": [
    "# Example - 24 \n",
    "class Test: \n",
    "    a=10 \n",
    "\n",
    "t1=Test() \n",
    "del t1.a"
   ]
  },
  {
   "cell_type": "code",
   "execution_count": null,
   "metadata": {},
   "outputs": [],
   "source": [
    "# Example - 25\n",
    "import sys \n",
    "\n",
    "\n",
    "class Customer: \n",
    "    ''''' Customer class with bank operations.. ''' \n",
    "    bankname='DURGABANK' \n",
    "    \n",
    "    def __init__(self,name,balance=0.0): \n",
    "        self.name=name \n",
    "        self.balance=balance \n",
    "    \n",
    "    def deposit(self,amt): \n",
    "        self.balance=self.balance+amt \n",
    "        print('Balance after deposit:',self.balance) \n",
    "    \n",
    "    def withdraw(self,amt): \n",
    "        if amt>self.balance: \n",
    "            print('Insufficient Funds..cannot perform this operation') \n",
    "            sys.exit() \n",
    "        self.balance=self.balance-amt \n",
    "        print('Balance after withdraw:',self.balance)\n",
    "\n",
    "\n",
    "print('Welcome to',Customer.bankname) \n",
    "name=input('Enter Your Name:') \n",
    "c=Customer(name)\n",
    "\n",
    "while True: \n",
    "    print('d-Deposit \\nw-Withdraw \\ne-exit') \n",
    "    option=input('Choose your option:')\n",
    "    \n",
    "    if option=='d' or option=='D': \n",
    "        amt=float(input('Enter amount:')) \n",
    "        c.deposit(amt) \n",
    "    \n",
    "    elif option=='w' or option=='W': \n",
    "        amt=float(input('Enter amount:')) \n",
    "        c.withdraw(amt) \n",
    "    \n",
    "    elif option=='e' or option=='E': \n",
    "        print('Thanks for Banking') \n",
    "        sys.exit() \n",
    "    \n",
    "    else:\n",
    "        print('Invalid option..Plz choose valid option')"
   ]
  },
  {
   "attachments": {},
   "cell_type": "markdown",
   "metadata": {},
   "source": [
    "### 3) Local Variables:"
   ]
  },
  {
   "cell_type": "code",
   "execution_count": null,
   "metadata": {},
   "outputs": [],
   "source": [
    "# Example - 26\n",
    "class Test: \n",
    "    def m1(self): \n",
    "        a=1000 \n",
    "        print(a) \n",
    "    \n",
    "    def m2(self): \n",
    "        b=2000 \n",
    "        print(b) \n",
    "\n",
    "t=Test()\n",
    "t.m1() \n",
    "t.m2()"
   ]
  },
  {
   "cell_type": "code",
   "execution_count": null,
   "metadata": {},
   "outputs": [],
   "source": [
    "# Example - 27\n",
    "class Test: \n",
    "    \n",
    "    def m1(self): \n",
    "        a=1000 \n",
    "        print(a) \n",
    "    \n",
    "    def m2(self): \n",
    "        b=2000\n",
    "\n",
    "print(a) #NameError: name 'a' is not defined 8) print(b) 9) t=Test() 10) t.m1() 11) t.m2()"
   ]
  },
  {
   "attachments": {},
   "cell_type": "markdown",
   "metadata": {},
   "source": [
    "### Types of Methods: \n",
    "Inside Python class 3 types of methods are allowed\n",
    "1) Instance Methods 2) Class Methods 3) Static Methods"
   ]
  },
  {
   "attachments": {},
   "cell_type": "markdown",
   "metadata": {},
   "source": [
    "#### 1) Instance Methods:"
   ]
  },
  {
   "cell_type": "code",
   "execution_count": null,
   "metadata": {},
   "outputs": [],
   "source": [
    "# Example - 28\n",
    "class Student: \n",
    "\n",
    "    def __init__(self,name,marks): \n",
    "        self.name=name \n",
    "        self.marks=marks \n",
    "    \n",
    "    def display(self): \n",
    "        print('Hi',self.name) \n",
    "        print('Your Marks are:',self.marks) \n",
    "    \n",
    "    def grade(self): \n",
    "        if self.marks>=60: \n",
    "            print('You got First Grade') \n",
    "        \n",
    "        elif self.marks>=50: \n",
    "            print('Yout got Second Grade') \n",
    "        \n",
    "        elif self.marks>=35: \n",
    "            print('You got Third Grade') \n",
    "        \n",
    "        else: \n",
    "            print('You are Failed') \n",
    "\n",
    "n=int(input('Enter number of students:')) \n",
    "\n",
    "for i in range(n): \n",
    "    name=input('Enter Name:') \n",
    "    marks=int(input('Enter Marks:')) \n",
    "    \n",
    "    s= Student(name,marks) \n",
    "    s.display() \n",
    "    s.grade() \n",
    "    print()"
   ]
  },
  {
   "cell_type": "code",
   "execution_count": null,
   "metadata": {},
   "outputs": [],
   "source": [
    "# Example - 29\n",
    "class Student: \n",
    "\n",
    "    def setName(self,name): \n",
    "        self.name=name\n",
    "    \n",
    "    def getName(self): \n",
    "        return self.name\n",
    "    \n",
    "    def setMarks(self,marks): \n",
    "        self.marks=marks \n",
    "         \n",
    "    def getMarks(self): \n",
    "        return self.marks \n",
    "     \n",
    "\n",
    "n=int(input('Enter number of students:')) \n",
    "\n",
    "for i in range(n): \n",
    "    s=Student() \n",
    "    name=input('Enter Name:') \n",
    "    s.setName(name) \n",
    "    marks=int(input('Enter Marks:')) \n",
    "    s.setMarks(marks) \n",
    "     \n",
    "    print('Hi',s.getName()) \n",
    "    print('Your Marks are:',s.getMarks()) \n",
    "    print()"
   ]
  },
  {
   "attachments": {},
   "cell_type": "markdown",
   "metadata": {},
   "source": [
    "#### 2) Class Methods:"
   ]
  },
  {
   "cell_type": "code",
   "execution_count": null,
   "metadata": {},
   "outputs": [],
   "source": [
    "# Example - 30\n",
    "class Animal:\n",
    "    lEgs=4 \n",
    "    \n",
    "    @classmethod \n",
    "    def walk(cls,name): \n",
    "        print('{} walks with {} lEgs...'.format(name,cls.lEgs)) \n",
    "\n",
    "Animal.walk('Dog') \n",
    "Animal.walk('Cat')"
   ]
  },
  {
   "cell_type": "code",
   "execution_count": null,
   "metadata": {},
   "outputs": [],
   "source": [
    "# Example - 31\n",
    "class Test: \n",
    "    \n",
    "    count=0 \n",
    "    \n",
    "    def __init__(self): \n",
    "        Test.count =Test.count+1 \n",
    "    \n",
    "    @classmethod \n",
    "    def noOfObjects(cls): \n",
    "        print('The number of objects created for test class:',cls.count) \n",
    " \n",
    "\n",
    "t1=Test() \n",
    "t2=Test() \n",
    "\n",
    "Test.noOfObjects() \n",
    "\n",
    "t3=Test() \n",
    "t4=Test() \n",
    "t5=Test() \n",
    "\n",
    "Test.noOfObjects()"
   ]
  },
  {
   "attachments": {},
   "cell_type": "markdown",
   "metadata": {},
   "source": [
    "#### 3) Static Methods:"
   ]
  },
  {
   "cell_type": "code",
   "execution_count": null,
   "metadata": {},
   "outputs": [],
   "source": [
    "# Example - 32\n",
    "class DurgaMath: \n",
    " \n",
    "    @staticmethod \n",
    "    def add(x,y): \n",
    "        print('The Sum:',x+y)\n",
    "    \n",
    "    @staticmethod \n",
    "    def product(x,y): \n",
    "        print('The Product:',x*y)\n",
    " \n",
    "    @staticmethod \n",
    "    def average(x,y): \n",
    "        print('The average:',(x+y)/2) \n",
    "\n",
    "\n",
    "DurgaMath.add(10,20) \n",
    "DurgaMath.product(10,20) \n",
    "DurgaMath.average(10,20)"
   ]
  },
  {
   "attachments": {},
   "cell_type": "markdown",
   "metadata": {},
   "source": [
    "### Passing Members of One Class to Another Class:"
   ]
  },
  {
   "cell_type": "code",
   "execution_count": null,
   "metadata": {},
   "outputs": [],
   "source": [
    "# Example - 33\n",
    "class Employee: \n",
    "    \n",
    "    def __init__(self,eno,ename,esal): \n",
    "        self.eno=eno \n",
    "        self.ename=ename \n",
    "        self.esal=esal \n",
    "    \n",
    "    def display(self): \n",
    "        print('Employee Number:',self.eno) \n",
    "        print('Employee Name:',self.ename) \n",
    "        print('Employee Salary:',self.esal) \n",
    "\n",
    "class Test: \n",
    "    \n",
    "    def modify(emp):\n",
    "        emp.esal=emp.esal+10000 \n",
    "        emp.display() \n",
    "\n",
    "e=Employee(100,'Durga',10000) \n",
    "Test.modify(e)"
   ]
  },
  {
   "attachments": {},
   "cell_type": "markdown",
   "metadata": {},
   "source": [
    "### Inner Classes"
   ]
  },
  {
   "cell_type": "code",
   "execution_count": null,
   "metadata": {},
   "outputs": [],
   "source": [
    "# Example - 34\n",
    "class Outer: \n",
    "    \n",
    "    def __init__(self): \n",
    "        print(\"outer class object creation\") \n",
    "\n",
    "class Inner: \n",
    "    \n",
    "    def __init__(self): \n",
    "        print(\"inner class object creation\") \n",
    "    \n",
    "    def m1(self): \n",
    "        print(\"inner class method\") \n",
    "\n",
    "o=Outer() \n",
    "i=o.Inner() \n",
    "i.m1()"
   ]
  },
  {
   "cell_type": "code",
   "execution_count": null,
   "metadata": {},
   "outputs": [],
   "source": [
    "# Example - 35\n",
    "class Person: \n",
    "    \n",
    "    def __init__(self): \n",
    "        self.name='durga' \n",
    "        self.db=self.Dob() \n",
    "    \n",
    "    def display(self): \n",
    "        print('Name:',self.name)\n",
    "\n",
    "class Dob: \n",
    "    \n",
    "    def __init__(self): \n",
    "        self.dd=10 \n",
    "        self.mm=5 \n",
    "        self.yy=1947\n",
    "    \n",
    "    def display(self): \n",
    "        print(f'Dob={self.dd}/{self.mm}/{self.yy}')\n",
    "\n",
    "p=Person() \n",
    "p.display() \n",
    "x=p.db \n",
    "x.display()"
   ]
  },
  {
   "cell_type": "code",
   "execution_count": null,
   "metadata": {},
   "outputs": [],
   "source": [
    "# Example - 36\n",
    "class Human: \n",
    "    \n",
    "    def __init__(self): \n",
    "        self.name = 'Sunny' \n",
    "        self.head = self.Head() \n",
    "        self.brain = self.Brain() \n",
    "        \n",
    "    def display(self): \n",
    "        print(\"Hello..\",self.name) \n",
    "\n",
    "\n",
    "class Head: \n",
    "    \n",
    "    def talk(self): \n",
    "        print('Talking...') \n",
    "\n",
    " \n",
    "class Brain:\n",
    "    \n",
    "    def think(self): \n",
    "        print('Thinking...') \n",
    "\n",
    "\n",
    "h=Human() \n",
    "h.display() \n",
    "h.head.talk() \n",
    "h.brain.think()"
   ]
  },
  {
   "attachments": {},
   "cell_type": "markdown",
   "metadata": {},
   "source": [
    "### Garbage Collection"
   ]
  },
  {
   "cell_type": "code",
   "execution_count": null,
   "metadata": {},
   "outputs": [],
   "source": [
    "# Example - 37\n",
    "import gc \n",
    "\n",
    "print(gc.isenabled()) \n",
    "gc.disable() \n",
    "\n",
    "print(gc.isenabled()) \n",
    "gc.enable() \n",
    "\n",
    "print(gc.isenabled())"
   ]
  },
  {
   "cell_type": "code",
   "execution_count": null,
   "metadata": {},
   "outputs": [],
   "source": [
    "# Example - 38\n",
    "import time \n",
    "\n",
    "class Test: \n",
    "    \n",
    "    def __init__(self): \n",
    "        print(\"Object Initialization...\") \n",
    "    \n",
    "    def __del__(self): \n",
    "        print(\"Fulfilling Last Wish and performing clean up activities...\") \n",
    " \n",
    "\n",
    "t1=Test() \n",
    "t1=None \n",
    "time.sleep(5) \n",
    "print(\"End of application\")"
   ]
  },
  {
   "cell_type": "code",
   "execution_count": null,
   "metadata": {},
   "outputs": [],
   "source": [
    "# Example - 39\n",
    "import time \n",
    "\n",
    "class Test: \n",
    "    \n",
    "    def __init__(self): \n",
    "        print(\"Constructor Execution...\") \n",
    "    \n",
    "    def __del__(self): \n",
    "        print(\"Destructor Execution...\") \n",
    "\n",
    "            \n",
    "t1=Test() \n",
    "t2=t1 \n",
    "t3=t2 \n",
    "del t1 \n",
    "time.sleep(5) \n",
    "print(print(\"object not yet destroyed after deleting t1\") \n",
    "\n",
    "del t2\n",
    "time.sleep(5) \n",
    "\n",
    "print(\"object not yet destroyed even after deleting t2\")\n",
    "print(\"I am trying to delete last reference variable...\") \n",
    "\n",
    "del t3"
   ]
  },
  {
   "cell_type": "code",
   "execution_count": null,
   "metadata": {},
   "outputs": [],
   "source": [
    "# Example - 40\n",
    "import time \n",
    "\n",
    "class Test: \n",
    "    \n",
    "    def __init__(self): \n",
    "        print(\"Constructor Execution...\") \n",
    "    \n",
    "    def __del__(self): \n",
    "        print(\"Destructor Execution...\") \n",
    "\n",
    " \n",
    "list=[Test(),Test(),Test()] \n",
    "del list \n",
    "time.sleep(5) \n",
    "print(\"End of application\")"
   ]
  },
  {
   "attachments": {},
   "cell_type": "markdown",
   "metadata": {},
   "source": [
    "#### How to find the Number of References of an Object:"
   ]
  },
  {
   "cell_type": "code",
   "execution_count": null,
   "metadata": {},
   "outputs": [],
   "source": [
    "# Example - 41\n",
    "import sys \n",
    "\n",
    "class Test: \n",
    "    pass \n",
    "\n",
    "t1=Test() \n",
    "t2=t1 \n",
    "t3=t1 \n",
    "t4=t1 \n",
    "\n",
    "print(sys.getrefcount(t1))"
   ]
  },
  {
   "cell_type": "code",
   "execution_count": null,
   "metadata": {},
   "outputs": [],
   "source": [
    "%reload_ext watermark\n",
    "%watermark -a \"Caique Miranda\" -gu \"caiquemiranda\" -iv"
   ]
  },
  {
   "attachments": {},
   "cell_type": "markdown",
   "metadata": {},
   "source": [
    "### End."
   ]
  }
 ],
 "metadata": {
  "kernelspec": {
   "display_name": "Python 3",
   "language": "python",
   "name": "python3"
  },
  "language_info": {
   "name": "python",
   "version": "3.10.5"
  },
  "orig_nbformat": 4,
  "vscode": {
   "interpreter": {
    "hash": "74af3d2f25f1e46ebd2903d59225d79e4675ec224d56c01fc30cd168c2010d53"
   }
  }
 },
 "nbformat": 4,
 "nbformat_minor": 2
}
