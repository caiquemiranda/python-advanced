{
 "cells": [
  {
   "cell_type": "code",
   "execution_count": null,
   "metadata": {},
   "outputs": [],
   "source": [
    "# Versão da Linguagem Python\n",
    "\n",
    "from platform import python_version\n",
    "print('Versão de Python Neste Jupyter Notebook:', python_version())"
   ]
  },
  {
   "cell_type": "code",
   "execution_count": null,
   "metadata": {},
   "outputs": [],
   "source": [
    "import warnings\n",
    "warnings.filterwarnings('ignore')"
   ]
  },
  {
   "cell_type": "code",
   "execution_count": null,
   "metadata": {},
   "outputs": [],
   "source": [
    "# Syntax: \n",
    "# class className: \n",
    "#   ''' documenttation string ''' \n",
    "#   variables: instance variables, static and local variables \n",
    "#   methods: instance methods, static methods, class methods"
   ]
  },
  {
   "cell_type": "code",
   "execution_count": null,
   "metadata": {},
   "outputs": [],
   "source": [
    "# 1) print(classname.__doc__) \n",
    "# 2) help(classname)"
   ]
  },
  {
   "cell_type": "code",
   "execution_count": null,
   "metadata": {},
   "outputs": [],
   "source": [
    "# Example - 1\n",
    "class Student: \n",
    "    ''''' This is student class with required data'''  \n",
    "    print(Student.__doc__)\n",
    "    help(Student)"
   ]
  },
  {
   "cell_type": "code",
   "execution_count": null,
   "metadata": {},
   "outputs": [],
   "source": [
    "# Example - 2 \n",
    "class Student:\n",
    "    '''''Developed by durga for python demo''' \n",
    "    def __init__(self): \n",
    "    \n",
    "        self.name='durga' \n",
    "        self.age=40 \n",
    "        self.marks=80 \n",
    "        \n",
    "    def talk(self): \n",
    "        print(\"Hello I am :\",self.name) \n",
    "        print(\"My Age is:\",self.age) \n",
    "        print(\"My Marks are:\",self.marks)"
   ]
  },
  {
   "cell_type": "code",
   "execution_count": null,
   "metadata": {},
   "outputs": [],
   "source": [
    "# Example - 3\n",
    "class Student: \n",
    "    \n",
    "    def __init__(self,name,rollno,marks): \n",
    "        self.name=name \n",
    "        self.rollno=rollno \n",
    "        self.marks=marks\n",
    "        \n",
    "        def talk(self):\n",
    "            print(\"Hello My Name is:\",self.name) \n",
    "            print(\"My Rollno is:\",self.rollno) \n",
    "            print(\"My Marks are:\",self.marks) \n",
    "             \n",
    "\n",
    "s1=Student(\"Durga\",101,80) \n",
    "s1.talk()"
   ]
  },
  {
   "cell_type": "code",
   "execution_count": null,
   "metadata": {},
   "outputs": [],
   "source": [
    "# Example - 4 \n",
    "def __init__(self,name,rollno,marks): \n",
    "    self.name=name \n",
    "    self.rollno=rollno \n",
    "    self.marks=marks"
   ]
  },
  {
   "cell_type": "code",
   "execution_count": null,
   "metadata": {},
   "outputs": [],
   "source": [
    "# Example - 5\n",
    "class Test: \n",
    "    \n",
    "    def __init__(self): \n",
    "        print(\"Constructor exeuction...\") \n",
    "         \n",
    "        def m1(self):\n",
    "            print(\"Method execution...\") \n",
    "             \n",
    "t1=Test() \n",
    "t2=Test() \n",
    "t3=Test() \n",
    "t1.m1()"
   ]
  },
  {
   "cell_type": "code",
   "execution_count": null,
   "metadata": {},
   "outputs": [],
   "source": [
    "class Student: \n",
    "    ''''' This is student class with required data''' \n",
    "    \n",
    "    def __init__(self,\n",
    "                 name,\n",
    "                 rollno,\n",
    "                 marks):\n",
    "        \n",
    "        self.name= name\n",
    "        self.rollno= rollno \n",
    "        self.marks= marks \n",
    "         \n",
    "        def display(self):\n",
    "            print(f\"Student Name:{self.name}\\nRollno:{self.rollno} \\nMarks:{self.marks}\") \n",
    "             \n",
    "\n",
    "s1=Student(\"Caique\",101,80) \n",
    "s1.display()\n",
    "\n",
    "s2=Student(\"Santos\",102,100) \n",
    "s2.display()"
   ]
  },
  {
   "attachments": {},
   "cell_type": "markdown",
   "metadata": {},
   "source": [
    "|Method | Constructor|\n",
    "|--|--|\n",
    "|1) Name of method can be any name |1) Constructor name should be always __init__ |\n",
    "|2) Method will be executed if we call that method |2) Constructor will be executed automatically at the time of object creation.| \n",
    "|3) Per object, method can be called any number of times. |3) Per object, Constructor will be executed only once |\n",
    "|4) Inside method we can write business logic | 4) Inside Constructor we have to declare and initialize instance variables|"
   ]
  },
  {
   "attachments": {},
   "cell_type": "markdown",
   "metadata": {},
   "source": [
    "### Inside Constructor by using Self Variable:"
   ]
  },
  {
   "cell_type": "code",
   "execution_count": null,
   "metadata": {},
   "outputs": [],
   "source": [
    "class Employee:\n",
    "    def __init__(self):\n",
    "        self.eno=100\n",
    "        self.ename='Caique'\n",
    "        self.esal=10_000\n",
    "\n",
    "e=Employee()\n",
    "print(e.__dict__)"
   ]
  },
  {
   "attachments": {},
   "cell_type": "markdown",
   "metadata": {},
   "source": [
    "### Inside Instance Method by using Self Variable:"
   ]
  },
  {
   "cell_type": "code",
   "execution_count": null,
   "metadata": {},
   "outputs": [],
   "source": [
    "1) class Test: 2) 3) def __init__(self): 4) self.a=10 5) self.b=20 6) 7) def m1(self): 8) self.c=30 9) 10) t=Test() 11) t.m1() 12) print(t.__dict__)"
   ]
  },
  {
   "attachments": {},
   "cell_type": "markdown",
   "metadata": {},
   "source": [
    "### Outside of the Class by using Object Reference Variable:"
   ]
  },
  {
   "cell_type": "code",
   "execution_count": null,
   "metadata": {},
   "outputs": [],
   "source": [
    "1) class Test: 2) 3) def __init__(self): 4) self.a=10 5) self.b=20 6) def m1(self): 7) self.c=30 8) 9) t=Test() 10) t.m1() 11) t.d=40 12) print(t.__dict__)"
   ]
  },
  {
   "attachments": {},
   "cell_type": "markdown",
   "metadata": {},
   "source": [
    "### How to Access Instance Variables:"
   ]
  },
  {
   "cell_type": "code",
   "execution_count": null,
   "metadata": {},
   "outputs": [],
   "source": [
    "1) class Test: 2) 3) def __init__(self): 4) self.a=10 5) self.b=20 6) def display(self): 7) print(self.a) 8) print(self.b) 9) 10) t=Test() 11) t.display() 12) print(t.a,t.b)"
   ]
  },
  {
   "attachments": {},
   "cell_type": "markdown",
   "metadata": {},
   "source": [
    "### How to delete Instance Variable from the Object:"
   ]
  },
  {
   "cell_type": "code",
   "execution_count": null,
   "metadata": {},
   "outputs": [],
   "source": [
    "1) class Test: 2) def __init__(self): 3) self.a=10 4) self.b=20 5) self.c=30 6) self.d=40 7) def m1(self): 8) del self.d 9) 10) t=Test() 11) print(t.__dict__) 12) t.m1() 13) print(t.__dict__) 14) del t.c 15) print(t.__dict__)"
   ]
  },
  {
   "cell_type": "code",
   "execution_count": null,
   "metadata": {},
   "outputs": [],
   "source": [
    "1) class Test: 2) def __init__(self): 3) self.a=10 4) self.b=20 5) self.c=30 6) self.d=40 7) 8) t1=Test() 9) t2=Test() 10) del t1.a 11) print(t1.__dict__) 12) print(t2.__dict__)"
   ]
  },
  {
   "cell_type": "code",
   "execution_count": null,
   "metadata": {},
   "outputs": [],
   "source": [
    "1) class Test: 2) def __init__(self): 3) self.a=10 4) self.b=20 5) 6) t1=Test() 7) t1.a=888 8) t1.b=999 9) t2=Test() 10) print('t1:',t1.a,t1.b) 11) print('t2:',t2.a,t2.b)"
   ]
  },
  {
   "attachments": {},
   "cell_type": "markdown",
   "metadata": {},
   "source": [
    "### Instance Variable vs Static Variable:"
   ]
  },
  {
   "cell_type": "code",
   "execution_count": null,
   "metadata": {},
   "outputs": [],
   "source": [
    "1) class Test: 2) x=10 3) def __init__(self): 4) self.y=20 5) 6) t1=Test() 7) t2=Test() 8) print('t1:',t1.x,t1.y) 9) print('t2:',t2.x,t2.y) 10) Test.x=888 11) t1.y=999 12) print('t1:',t1.x,t1.y) 13) print('t2:',t2.x,t2.y)"
   ]
  },
  {
   "attachments": {},
   "cell_type": "markdown",
   "metadata": {},
   "source": [
    "### Various Places to declare Static Variables:"
   ]
  },
  {
   "attachments": {},
   "cell_type": "markdown",
   "metadata": {},
   "source": [
    "1) In general we can declare within the class directly but from out side of any method 2) Inside constructor by using class name 3) Inside instance method by using class name 4) Inside classmethod by using either class name or cls variable 5) Inside static method by using class name"
   ]
  },
  {
   "cell_type": "code",
   "execution_count": null,
   "metadata": {},
   "outputs": [],
   "source": [
    "1) class Test: 2) a=10 3) def __init__(self): 4) Test.b=20 5) def m1(self): 6) Test.c=30 7) @classmethod 8) def m2(cls): 9) cls.d1=40 10) Test.d2=400 11) @staticmethod 12) def m3(): 13) Test.e=50 14) print(Test.__dict__) 15) t=Test() 16) print(Test.__dict__) 17) t.m1() 18) print(Test.__dict__) 19) Test.m2() 20) print(Test.__dict__) 21) Test.m3() 22) print(Test.__dict__) 23) Test.f=60 24) print(Test.__dict__)"
   ]
  },
  {
   "attachments": {},
   "cell_type": "markdown",
   "metadata": {},
   "source": [
    "### How to access Static Variables: "
   ]
  },
  {
   "attachments": {},
   "cell_type": "markdown",
   "metadata": {},
   "source": [
    "1) inside constructor: by using either self or classname 2) inside instance method: by using either self or classname 3) inside class method: by using either cls variable or classname 4) inside static method: by using classname 5) From outside of class: by using either object reference or classname"
   ]
  },
  {
   "cell_type": "code",
   "execution_count": null,
   "metadata": {},
   "outputs": [],
   "source": [
    "1) class Test: 2) a=10 3) def __init__(self): 4) print(self.a) 5) print(Test.a) 6) def m1(self): 7) print(self.a) 8) print(Test.a) 9) @classmethod 10) def m2(cls): 11) print(cls.a) 12) print(Test.a)\n",
    "13) @staticmethod 14) def m3(): 15) print(Test.a) 16) t=Test() 17) print(Test.a) 18) print(t.a) 19) t.m1() 20) t.m2() 21) t.m3()"
   ]
  },
  {
   "attachments": {},
   "cell_type": "markdown",
   "metadata": {},
   "source": [
    "### Where we can modify the Value of Static Variable:"
   ]
  },
  {
   "cell_type": "code",
   "execution_count": null,
   "metadata": {},
   "outputs": [],
   "source": [
    "1) class Test: 2) a=777 3) @classmethod 4) def m1(cls): 5) cls.a=888 6) @staticmethod 7) def m2(): 8) Test.a=999 9) print(Test.a) 10) Test.m1() 11) print(Test.a) 12) Test.m2() 13) print(Test.a)"
   ]
  },
  {
   "cell_type": "code",
   "execution_count": null,
   "metadata": {},
   "outputs": [],
   "source": [
    "1) class Test: 2) a=10 3) def m1(self): 4) self.a=888\n",
    "5) t1=Test() 6) t1.m1() 7) print(Test.a) 8) print(t1.a)"
   ]
  },
  {
   "cell_type": "code",
   "execution_count": null,
   "metadata": {},
   "outputs": [],
   "source": [
    "1) class Test: 2) x=10 3) def __init__(self): 4) self.y=20 5) 6) t1=Test() 7) t2=Test() 8) print('t1:',t1.x,t1.y) 9) print('t2:',t2.x,t2.y) 10) t1.x=888 11) t1.y=999 12) print('t1:',t1.x,t1.y) 13) print('t2:',t2.x,t2.y)"
   ]
  },
  {
   "cell_type": "code",
   "execution_count": null,
   "metadata": {},
   "outputs": [],
   "source": [
    "t2: 10 20 1) class Test: 2) a=10 3) def __init__(self): 4) self.b=20 5) t1=Test() 6) t2=Test() 7) Test.a=888 8) t1.b=999 9) print(t1.a,t1.b) 10) print(t2.a,t2.b)"
   ]
  },
  {
   "cell_type": "code",
   "execution_count": null,
   "metadata": {},
   "outputs": [],
   "source": [
    "1) class Test: 2) a=10 3) def __init__(self): 4) self.b=20 5) def m1(self): 6) self.a=888 7) self.b=999 8) 9) t1=Test() 10) t2=Test() 11) t1.m1() 12) print(t1.a,t1.b) 13) print(t2.a,t2.b)"
   ]
  },
  {
   "cell_type": "code",
   "execution_count": null,
   "metadata": {},
   "outputs": [],
   "source": [
    "1) class Test: 2) a=10 3) def __init__(self): 4) self.b=20 5) @classmethod 6) def m1(cls): 7) cls.a=888 8) cls.b=999 9) 10) t1=Test() 11) t2=Test() 12) t1.m1() 13) print(t1.a,t1.b) 14) print(t2.a,t2.b) 15) print(Test.a,Test.b)"
   ]
  },
  {
   "attachments": {},
   "cell_type": "markdown",
   "metadata": {},
   "source": [
    "### How to Delete Static Variables of a Class:"
   ]
  },
  {
   "attachments": {},
   "cell_type": "markdown",
   "metadata": {},
   "source": [
    "1) We can delete static variables from anywhere by using the following syntax del classname.variablename"
   ]
  },
  {
   "attachments": {},
   "cell_type": "markdown",
   "metadata": {},
   "source": [
    "2) But inside classmethod we can also use cls variable del cls.variablename"
   ]
  },
  {
   "cell_type": "code",
   "execution_count": null,
   "metadata": {},
   "outputs": [],
   "source": [
    "1) class Test: 2) a=10 3) @classmethod 4) def m1(cls): 5) del cls.a 6) Test.m1() 7) print(Test.__dict__)"
   ]
  },
  {
   "cell_type": "code",
   "execution_count": null,
   "metadata": {},
   "outputs": [],
   "source": [
    "Example: 1) class Test: 2) a=10 3) def __init__(self): 4) Test.b=20 5) del Test.a 6) def m1(self): 7) Test.c=30 8) del Test.b 9) @classmethod 10) def m2(cls): 11) cls.d=40 12) del Test.c 13) @staticmethod 14) def m3(): 15) Test.e=50 16) del Test.d 17) print(Test.__dict__) 18) t=Test() 19) print(Test.__dict__) 20) t.m1() 21) print(Test.__dict__) 22) Test.m2() 23) print(Test.__dict__) 24) Test.m3() 25) print(Test.__dict__) 26) Test.f=60 27) print(Test.__dict__)28) del Test.e 29) print(Test.__dict__)"
   ]
  },
  {
   "cell_type": "code",
   "execution_count": null,
   "metadata": {},
   "outputs": [],
   "source": [
    "Example: 1) class Test: 2) a=10 3) 4) t1=Test() 5) del t1.a ===>AttributeError: a"
   ]
  },
  {
   "cell_type": "code",
   "execution_count": null,
   "metadata": {},
   "outputs": [],
   "source": [
    "1) import sys 2) class Customer: 3) ''''' Customer class with bank operations.. ''' 4) bankname='DURGABANK' 5) def __init__(self,name,balance=0.0): 6) self.name=name 7) self.balance=balance 8) def deposit(self,amt): 9) self.balance=self.balance+amt 10) print('Balance after deposit:',self.balance) 11) def withdraw(self,amt): 12) if amt>self.balance: 13) print('Insufficient Funds..cannot perform this operation') 14) sys.exit() 15) self.balance=self.balance-amt 16) print('Balance after withdraw:',self.balance) 17) 18) print('Welcome to',Customer.bankname) 19) name=input('Enter Your Name:') 20) c=Customer(name) 21) while True: 22) print('d-Deposit \\nw-Withdraw \\ne-exit') 23) option=input('Choose your option:')24) if option=='d' or option=='D': 25) amt=float(input('Enter amount:')) 26) c.deposit(amt) 27) elif option=='w' or option=='W': 28) amt=float(input('Enter amount:')) 29) c.withdraw(amt) 30) elif option=='e' or option=='E': 31) print('Thanks for Banking') 32) sys.exit() 33) else: 34) print('Invalid option..Plz choose valid option')"
   ]
  },
  {
   "attachments": {},
   "cell_type": "markdown",
   "metadata": {},
   "source": [
    "### 3) Local Variables:"
   ]
  },
  {
   "cell_type": "code",
   "execution_count": null,
   "metadata": {},
   "outputs": [],
   "source": [
    "1) class Test: 2) def m1(self): 3) a=1000 4) print(a) 5) def m2(self): 6) b=2000 7) print(b) 8) t=Test() 9) t.m1() 10) t.m2()"
   ]
  },
  {
   "cell_type": "code",
   "execution_count": null,
   "metadata": {},
   "outputs": [],
   "source": [
    "1) class Test: 2) def m1(self): 3) a=1000 4) print(a) 5) def m2(self): 6) b=2000 7) print(a) #NameError: name 'a' is not defined 8) print(b) 9) t=Test() 10) t.m1() 11) t.m2()"
   ]
  },
  {
   "attachments": {},
   "cell_type": "markdown",
   "metadata": {},
   "source": [
    "### Types of Methods: \n",
    "Inside Python class 3 types of methods are allowed\n",
    "1) Instance Methods 2) Class Methods 3) Static Methods"
   ]
  },
  {
   "attachments": {},
   "cell_type": "markdown",
   "metadata": {},
   "source": [
    "#### 1) Instance Methods:"
   ]
  },
  {
   "cell_type": "code",
   "execution_count": null,
   "metadata": {},
   "outputs": [],
   "source": [
    "1) class Student: 2) def __init__(self,name,marks): 3) self.name=name 4) self.marks=marks 5) def display(self): 6) print('Hi',self.name) 7) print('Your Marks are:',self.marks) 8) def grade(self): 9) if self.marks>=60: 10) print('You got First Grade') 11) elif self.marks>=50: 12) print('Yout got Second Grade') 13) elif self.marks>=35: 14) print('You got Third Grade') 15) else: 16) print('You are Failed') 17) n=int(input('Enter number of students:')) 18) for i in range(n): 19) name=input('Enter Name:') 20) marks=int(input('Enter Marks:')) 21) s= Student(name,marks) 22) s.display() 23) s.grade() 24) print()"
   ]
  },
  {
   "cell_type": "code",
   "execution_count": null,
   "metadata": {},
   "outputs": [],
   "source": [
    "class Student: 2) def setName(self,name): 3) self.name=name5) def getName(self): 6) return self.name 7) 8) def setMarks(self,marks): 9) self.marks=marks 10) 11) def getMarks(self): 12) return self.marks 13) 14) n=int(input('Enter number of students:')) 15) for i in range(n): 16) s=Student() 17) name=input('Enter Name:') 18) s.setName(name) 19) marks=int(input('Enter Marks:')) 20) s.setMarks(marks) 21) 22) print('Hi',s.getName()) 23) print('Your Marks are:',s.getMarks()) 24) print()"
   ]
  },
  {
   "attachments": {},
   "cell_type": "markdown",
   "metadata": {},
   "source": [
    "#### 2) Class Methods:"
   ]
  },
  {
   "cell_type": "code",
   "execution_count": null,
   "metadata": {},
   "outputs": [],
   "source": [
    "1) class Animal: 2) lEgs=4 3) @classmethod 4) def walk(cls,name): 5) print('{} walks with {} lEgs...'.format(name,cls.lEgs)) 6) Animal.walk('Dog') 7) Animal.walk('Cat')"
   ]
  },
  {
   "cell_type": "code",
   "execution_count": null,
   "metadata": {},
   "outputs": [],
   "source": [
    "1) class Test: 2) count=0 3) def __init__(self): 4) Test.count =Test.count+1 5) @classmethod 6) def noOfObjects(cls): 7) print('The number of objects created for test class:',cls.count) 8) 9) t1=Test() 10) t2=Test() 11) Test.noOfObjects() 12) t3=Test() 13) t4=Test() 14) t5=Test() 15) Test.noOfObjects()"
   ]
  },
  {
   "attachments": {},
   "cell_type": "markdown",
   "metadata": {},
   "source": [
    "#### 3) Static Methods:"
   ]
  },
  {
   "cell_type": "code",
   "execution_count": null,
   "metadata": {},
   "outputs": [],
   "source": [
    "1) class DurgaMath: 2) 3) @staticmethod 4) def add(x,y): 5) print('The Sum:',x+y)7) @staticmethod 8) def product(x,y): 9) print('The Product:',x*y) 10) 11) @staticmethod 12) def average(x,y): 13) print('The average:',(x+y)/2) 14) 15) DurgaMath.add(10,20) 16) DurgaMath.product(10,20) 17) DurgaMath.average(10,20)"
   ]
  },
  {
   "attachments": {},
   "cell_type": "markdown",
   "metadata": {},
   "source": [
    "### Passing Members of One Class to Another Class:"
   ]
  },
  {
   "cell_type": "code",
   "execution_count": null,
   "metadata": {},
   "outputs": [],
   "source": [
    "1) class Employee: 2) def __init__(self,eno,ename,esal): 3) self.eno=eno 4) self.ename=ename 5) self.esal=esal 6) def display(self): 7) print('Employee Number:',self.eno) 8) print('Employee Name:',self.ename) 9) print('Employee Salary:',self.esal) 10) class Test: 11) def modify(emp): 12) emp.esal=emp.esal+10000 13) emp.display() 14) e=Employee(100,'Durga',10000) 15) Test.modify(e)"
   ]
  },
  {
   "cell_type": "code",
   "execution_count": null,
   "metadata": {},
   "outputs": [],
   "source": [
    "%reload_ext watermark\n",
    "%watermark -a \"Caique Miranda\" -gu \"caiquemiranda\" -iv"
   ]
  },
  {
   "attachments": {},
   "cell_type": "markdown",
   "metadata": {},
   "source": [
    "### End."
   ]
  }
 ],
 "metadata": {
  "kernelspec": {
   "display_name": "Python 3",
   "language": "python",
   "name": "python3"
  },
  "language_info": {
   "name": "python",
   "version": "3.10.5"
  },
  "orig_nbformat": 4,
  "vscode": {
   "interpreter": {
    "hash": "74af3d2f25f1e46ebd2903d59225d79e4675ec224d56c01fc30cd168c2010d53"
   }
  }
 },
 "nbformat": 4,
 "nbformat_minor": 2
}
