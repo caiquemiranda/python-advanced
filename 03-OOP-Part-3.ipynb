{
 "cells": [
  {
   "attachments": {},
   "cell_type": "markdown",
   "metadata": {},
   "source": [
    "### POLYMORPHISM"
   ]
  },
  {
   "cell_type": "code",
   "execution_count": null,
   "metadata": {},
   "outputs": [],
   "source": [
    "class Duck: \n",
    "2) def talk(self): \n",
    "3) print('Quack.. Quack..') \n",
    "4) \n",
    "5) class Dog: \n",
    "6) def talk(self): \n",
    "7) print('Bow Bow..') \n",
    "8) \n",
    "9) class Cat: \n",
    "10) def talk(self): \n",
    "11) print('Moew Moew ..') \n",
    "12) \n",
    "13) class Goat: \n",
    "14) def talk(self): \n",
    "15) print('Myaah Myaah ..') \n",
    "16) \n",
    "17) def f1(obj): \n",
    "18) obj.talk() \n",
    "19) \n",
    "20) l=[Duck(),Cat(),Dog(),Goat()] \n",
    "21) for obj in"
   ]
  },
  {
   "cell_type": "code",
   "execution_count": null,
   "metadata": {},
   "outputs": [],
   "source": [
    "1) class Duck: \n",
    "2) def talk(self): \n",
    "3) print('Quack.. Quack..') \n",
    "4) \n",
    "5) class Dog: \n",
    "6) def bark(self): \n",
    "7) print('Bow Bow..') \n",
    "8) def f1(obj): \n",
    "9) obj.talk() \n",
    "10) \n",
    "11) d=Duck() \n",
    "12) f1(d) \n",
    "13)\n",
    "14) d=Dog() \n",
    "15) f1(d)"
   ]
  },
  {
   "cell_type": "code",
   "execution_count": null,
   "metadata": {},
   "outputs": [],
   "source": [
    "1) class Duck: \n",
    "2) def talk(self): \n",
    "3) print('Quack.. Quack..') \n",
    "4) \n",
    "5) class Human: \n",
    "6) def talk(self): \n",
    "7) print('Hello Hi...') \n",
    "8) \n",
    "9) class Dog: \n",
    "10) def bark(self): \n",
    "11) print('Bow Bow..') \n",
    "12) \n",
    "13) def f1(obj): \n",
    "14) if hasattr(obj,'talk'): \n",
    "15) obj.talk() \n",
    "16) elif hasattr(obj,'bark'): \n",
    "17) obj.bark() \n",
    "18) \n",
    "19) d=Duck() \n",
    "20) f1(d) \n",
    "21) \n",
    "22) h=Human() \n",
    "23) f1(h) \n",
    "24) \n",
    "25) d=Dog() \n",
    "26) f1(d)\n",
    "27) Myaah Myaah Myaah..."
   ]
  },
  {
   "attachments": {},
   "cell_type": "markdown",
   "metadata": {},
   "source": [
    "1) Operator Overloading:"
   ]
  },
  {
   "cell_type": "code",
   "execution_count": null,
   "metadata": {},
   "outputs": [],
   "source": [
    "1) class Book: \n",
    "2) def __init__(self,pages): \n",
    "3) self.pages=pages \n",
    "4)\n",
    "5) b1=Book(100)\n",
    "6) b2=Book(200) \n",
    "7) print(b1+b2)"
   ]
  },
  {
   "cell_type": "code",
   "execution_count": null,
   "metadata": {},
   "outputs": [],
   "source": [
    "1) class Book:\n",
    "2) def __init__(self,pages): \n",
    "3) self.pages=pages \n",
    "4) \n",
    "5) def __add__(self,other): \n",
    "6) return self.pages+other.pages \n",
    "7) \n",
    "8) b1=Book(100) \n",
    "9) b2=Book(200) \n",
    "10) print('The Total Number of Pages:',b1+b2)"
   ]
  },
  {
   "cell_type": "code",
   "execution_count": null,
   "metadata": {},
   "outputs": [],
   "source": [
    "1) class Student: \n",
    "2) def __init__(self,name,marks): \n",
    "3) self.name=name \n",
    "4) self.marks=marks \n",
    "5) def __gt__(self,other): \n",
    "6) return self.marks>other.marks \n",
    "7) def __le__(self,other): \n",
    "8) return self.marks<=other.marks \n",
    "9) \n",
    "10) print(\"10>20 =\",10>20) \n",
    "11) s1=Student(\"Durga\",100) \n",
    "12) s2=Student(\"Ravi\",200) \n",
    "13) print(\"s1>s2=\",s1>s2) \n",
    "14) print(\"s1<s2=\",s1<s2) \n",
    "15) print(\"s1<=s2=\",s1<=s2)\n",
    "16) print(\"s1>=s2=\",s1>=s2)"
   ]
  },
  {
   "cell_type": "code",
   "execution_count": null,
   "metadata": {},
   "outputs": [],
   "source": [
    "1) class Employee: \n",
    "2) def __init__(self,name,salary): \n",
    "3) self.name=name \n",
    "4) self.salary=salary \n",
    "5) def __mul__(self,other): \n",
    "6) return self.salary*other.days65 DURGASOFT, # 202, 2nd Floor, HUDA Maitrivanam, Ameerpet, Hyderabad - 500038,\n",
    "\n",
    "8) class TimeSheet: \n",
    "9) def __init__(self,name,days): \n",
    "10) self.name=name \n",
    "11) self.days=days \n",
    "12) \n",
    "13) e=Employee('Durga',500) \n",
    "14) t=TimeSheet('Durga',25) \n",
    "15) print('This Month Salary:',e*t)"
   ]
  },
  {
   "cell_type": "code",
   "execution_count": null,
   "metadata": {},
   "outputs": [],
   "source": [
    "1) class Test: \n",
    "2) def m1(self): \n",
    "3) print('no-arg method') \n",
    "4) def m1(self,a): \n",
    "5) print('one-arg method') \n",
    "6) def m1(self,a,b): \n",
    "7) print('two-arg method') \n",
    "8) \n",
    "9) t=Test() \n",
    "10) #t.m1() 11) #t.m1(10) 12) t.m1(10,20)"
   ]
  },
  {
   "attachments": {},
   "cell_type": "markdown",
   "metadata": {},
   "source": [
    "2) Method Overloading:"
   ]
  },
  {
   "cell_type": "code",
   "execution_count": null,
   "metadata": {},
   "outputs": [],
   "source": [
    "1) class Test: \n",
    "2) def m1(self): \n",
    "3) print('no-arg method') \n",
    "4) def m1(self,a): \n",
    "5) print('one-arg method') \n",
    "6) def m1(self,a,b): \n",
    "7) print('two-arg method') \n",
    "8) \n",
    "9) t=Test() \n",
    "10) #t.m1() 11) #t.m1(10) 12) t.m1(10,20)"
   ]
  },
  {
   "cell_type": "code",
   "execution_count": null,
   "metadata": {},
   "outputs": [],
   "source": [
    "1) class Test: \n",
    "2) def sum(self,a=None,b=None,c=None): \n",
    "3) if a!=None and b!= None and c!= None: \n",
    "4) print('The Sum of 3 Numbers:',a+b+c) \n",
    "5) elif a!=None and b!= None: \n",
    "6) print('The Sum of 2 Numbers:',a+b) \n",
    "7) else: \n",
    "8) print('Please provide 2 or 3 arguments') \n",
    "9) t=Test() \n",
    "10) t.sum(10,20) \n",
    "11) t.sum(10,20,30) \n",
    "12) t.sum(10)"
   ]
  },
  {
   "cell_type": "code",
   "execution_count": null,
   "metadata": {},
   "outputs": [],
   "source": [
    "1) class Test: \n",
    "2) def sum(self,*a): \n",
    "3) total=0 \n",
    "4) for x in a: \n",
    "5) total=total+x \n",
    "6) print('The Sum:',total) \n",
    "7) \n",
    "8) t=Test() \n",
    "9) t.sum(10,20) \n",
    "10) t.sum(10,20,30) \n",
    "11) t.sum(10) \n",
    "12) t.sum()"
   ]
  },
  {
   "attachments": {},
   "cell_type": "markdown",
   "metadata": {},
   "source": [
    "3) Constructor Overloading:"
   ]
  },
  {
   "cell_type": "code",
   "execution_count": null,
   "metadata": {},
   "outputs": [],
   "source": [
    "1) class Test: \n",
    "2) def __init__(self): \n",
    "3) print('No-Arg Constructor')\n",
    "5) def __init__(self,a): \n",
    "6) print('One-Arg constructor') \n",
    "7) \n",
    "8) def __init__(self,a,b): \n",
    "9) print('Two-Arg constructor') \n",
    "10) #t1=Test() 11) #t1=Test(10) 12) t1=Test(10,20)"
   ]
  },
  {
   "attachments": {},
   "cell_type": "markdown",
   "metadata": {},
   "source": [
    "Constructor with Default Arguments:"
   ]
  },
  {
   "cell_type": "code",
   "execution_count": null,
   "metadata": {},
   "outputs": [],
   "source": [
    "1) class Test: \n",
    "2) def __init__(self,a=None,b=None,c=None): \n",
    "3) print('Constructor with 0|1|2|3 number of arguments') \n",
    "4) \n",
    "5) t1=Test() \n",
    "6) t2=Test(10) \n",
    "7) t3=Test(10,20) \n",
    "8) t4=Test(10,20,30)"
   ]
  },
  {
   "attachments": {},
   "cell_type": "markdown",
   "metadata": {},
   "source": [
    "Constructor with Variable Number of Arguments:"
   ]
  },
  {
   "cell_type": "code",
   "execution_count": null,
   "metadata": {},
   "outputs": [],
   "source": [
    "1) class Test: \n",
    "2) def __init__(self,*a): \n",
    "3) print('Constructor with variable number of arguments') \n",
    "4) \n",
    "5) t1=Test() \n",
    "6) t2=Test(10) \n",
    "7) t3=Test(10,20) \n",
    "8) t4=Test(10,20,30) \n",
    "9) t5=Test(10,20,30,40,50,60)"
   ]
  },
  {
   "attachments": {},
   "cell_type": "markdown",
   "metadata": {},
   "source": [
    "Overriding"
   ]
  },
  {
   "cell_type": "code",
   "execution_count": null,
   "metadata": {},
   "outputs": [],
   "source": [
    "1) class P: \n",
    "2) def property(self): \n",
    "3) print('Gold+Land+Cash+Power') \n",
    "4) def marry(self): \n",
    "5) print('Appalamma') \n",
    "6) class C(P): \n",
    "7) def marry(self): \n",
    "8) print('Katrina Kaif') \n",
    "9) \n",
    "10) c=C() \n",
    "11) c.property() \n",
    "12) c.marry()"
   ]
  },
  {
   "cell_type": "code",
   "execution_count": null,
   "metadata": {},
   "outputs": [],
   "source": [
    "1) class P: \n",
    "2) def property(self): \n",
    "3) print('Gold+Land+Cash+Power')\n",
    "4) def marry(self): \n",
    "5) print('Appalamma') \n",
    "6) class C(P): \n",
    "7) def marry(self): \n",
    "8) super().marry() \n",
    "9) print('Katrina Kaif') \n",
    "10) \n",
    "11) c=C() \n",
    "12) c.property() \n",
    "13) c.marry()"
   ]
  },
  {
   "cell_type": "code",
   "execution_count": null,
   "metadata": {},
   "outputs": [],
   "source": [
    "1) class P: \n",
    "2) def __init__(self): \n",
    "3) print('Parent Constructor') \n",
    "4) \n",
    "5) class C(P): \n",
    "6) def __init__(self): \n",
    "7) print('Child Constructor') \n",
    "8) \n",
    "9) c=C()"
   ]
  },
  {
   "cell_type": "code",
   "execution_count": null,
   "metadata": {},
   "outputs": [],
   "source": [
    "super(): \n",
    "1) class Person: \n",
    "2) def __init__(self,name,age): \n",
    "3) self.name=name \n",
    "4) self.age=age \n",
    "5) \n",
    "6) class Employee(Person): \n",
    "7) def __init__(self,name,age,eno,esal): \n",
    "8) super().__init__(name,age)\n",
    "9) self.eno=eno \n",
    "10) self.esal=esal \n",
    "11) \n",
    "12) def display(self): \n",
    "13) print('Employee Name:',self.name) \n",
    "14) print('Employee Age:',self.age) \n",
    "15) print('Employee Number:',self.eno) \n",
    "16) print('Employee Salary:',self.esal) \n",
    "17)\n",
    "18) e1=Employee('Durga',48,872425,26000) \n",
    "19) e1.display()\n",
    "20) e2=Employee('Sunny',39,872426,36000) \n",
    "21) e2.display()"
   ]
  },
  {
   "cell_type": "code",
   "execution_count": null,
   "metadata": {},
   "outputs": [],
   "source": [
    "%reload_ext watermark\n",
    "%watermark -a \"Caique Miranda\" -gu \"caiquemiranda\" -iv"
   ]
  },
  {
   "attachments": {},
   "cell_type": "markdown",
   "metadata": {},
   "source": [
    "### End."
   ]
  }
 ],
 "metadata": {
  "kernelspec": {
   "display_name": "Python 3",
   "language": "python",
   "name": "python3"
  },
  "language_info": {
   "name": "python",
   "version": "3.10.5"
  },
  "orig_nbformat": 4,
  "vscode": {
   "interpreter": {
    "hash": "74af3d2f25f1e46ebd2903d59225d79e4675ec224d56c01fc30cd168c2010d53"
   }
  }
 },
 "nbformat": 4,
 "nbformat_minor": 2
}
