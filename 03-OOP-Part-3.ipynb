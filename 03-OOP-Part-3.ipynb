{
 "cells": [
  {
   "cell_type": "code",
   "execution_count": 1,
   "metadata": {},
   "outputs": [
    {
     "name": "stdout",
     "output_type": "stream",
     "text": [
      "Versão de Python Neste Jupyter Notebook: 3.10.5\n"
     ]
    }
   ],
   "source": [
    "# Versão da Linguagem Python\n",
    "\n",
    "from platform import python_version\n",
    "print('Versão de Python Neste Jupyter Notebook:', python_version())"
   ]
  },
  {
   "cell_type": "code",
   "execution_count": 2,
   "metadata": {},
   "outputs": [],
   "source": [
    "import warnings\n",
    "warnings.filterwarnings('ignore')"
   ]
  },
  {
   "attachments": {},
   "cell_type": "markdown",
   "metadata": {},
   "source": [
    "### POLYMORPHISM"
   ]
  },
  {
   "cell_type": "code",
   "execution_count": 3,
   "metadata": {},
   "outputs": [
    {
     "name": "stdout",
     "output_type": "stream",
     "text": [
      "Quack.. Quack..\n",
      "Moew Moew ..\n",
      "Bow Bow..\n",
      "Myaah Myaah ..\n"
     ]
    }
   ],
   "source": [
    "# Example - 074\n",
    "class Duck: \n",
    "    def talk(self): \n",
    "        print('Quack.. Quack..') \n",
    "\n",
    "class Dog: \n",
    "    def talk(self): \n",
    "        print('Bow Bow..') \n",
    "\n",
    "class Cat: \n",
    "    def talk(self): \n",
    "        print('Moew Moew ..') \n",
    "\n",
    "class Goat: \n",
    "    def talk(self): \n",
    "        print('Myaah Myaah ..') \n",
    "\n",
    "def f1(obj): \n",
    "    obj.talk() \n",
    "\n",
    "l=[Duck(),Cat(),Dog(),Goat()] \n",
    "for obj in l:\n",
    "    f1(obj)"
   ]
  },
  {
   "cell_type": "code",
   "execution_count": 4,
   "metadata": {},
   "outputs": [
    {
     "name": "stdout",
     "output_type": "stream",
     "text": [
      "Quack.. Quack..\n"
     ]
    },
    {
     "ename": "AttributeError",
     "evalue": "'Dog' object has no attribute 'talk'",
     "output_type": "error",
     "traceback": [
      "\u001b[1;31m---------------------------------------------------------------------------\u001b[0m",
      "\u001b[1;31mAttributeError\u001b[0m                            Traceback (most recent call last)",
      "\u001b[1;32md:\\GIT-repository\\github-python-advanced\\python-advanced\\03-OOP-Part-3.ipynb Célula 5\u001b[0m in \u001b[0;36m<cell line: 17>\u001b[1;34m()\u001b[0m\n\u001b[0;32m     <a href='vscode-notebook-cell:/d%3A/GIT-repository/github-python-advanced/python-advanced/03-OOP-Part-3.ipynb#X13sZmlsZQ%3D%3D?line=13'>14</a>\u001b[0m f1(d) \n\u001b[0;32m     <a href='vscode-notebook-cell:/d%3A/GIT-repository/github-python-advanced/python-advanced/03-OOP-Part-3.ipynb#X13sZmlsZQ%3D%3D?line=15'>16</a>\u001b[0m d\u001b[39m=\u001b[39mDog() \n\u001b[1;32m---> <a href='vscode-notebook-cell:/d%3A/GIT-repository/github-python-advanced/python-advanced/03-OOP-Part-3.ipynb#X13sZmlsZQ%3D%3D?line=16'>17</a>\u001b[0m f1(d)\n",
      "\u001b[1;32md:\\GIT-repository\\github-python-advanced\\python-advanced\\03-OOP-Part-3.ipynb Célula 5\u001b[0m in \u001b[0;36mf1\u001b[1;34m(obj)\u001b[0m\n\u001b[0;32m     <a href='vscode-notebook-cell:/d%3A/GIT-repository/github-python-advanced/python-advanced/03-OOP-Part-3.ipynb#X13sZmlsZQ%3D%3D?line=9'>10</a>\u001b[0m \u001b[39mdef\u001b[39;00m \u001b[39mf1\u001b[39m(obj): \n\u001b[1;32m---> <a href='vscode-notebook-cell:/d%3A/GIT-repository/github-python-advanced/python-advanced/03-OOP-Part-3.ipynb#X13sZmlsZQ%3D%3D?line=10'>11</a>\u001b[0m     obj\u001b[39m.\u001b[39;49mtalk()\n",
      "\u001b[1;31mAttributeError\u001b[0m: 'Dog' object has no attribute 'talk'"
     ]
    }
   ],
   "source": [
    "# Exmple - 075\n",
    "class Duck: \n",
    "    def talk(self): \n",
    "        print('Quack.. Quack..') \n",
    "\n",
    "class Dog: \n",
    "    def bark(self): \n",
    "        print('Bow Bow..') \n",
    "\n",
    "def f1(obj): \n",
    "    obj.talk() \n",
    "\n",
    "d=Duck() \n",
    "f1(d) \n",
    "\n",
    "d=Dog() \n",
    "f1(d)"
   ]
  },
  {
   "cell_type": "code",
   "execution_count": 5,
   "metadata": {},
   "outputs": [
    {
     "name": "stdout",
     "output_type": "stream",
     "text": [
      "Quack.. Quack..\n",
      "Hello Hi...\n",
      "Bow Bow..\n"
     ]
    }
   ],
   "source": [
    "# Example - 076\n",
    "class Duck: \n",
    "    def talk(self): \n",
    "        print('Quack.. Quack..') \n",
    "\n",
    "class Human: \n",
    "    def talk(self): \n",
    "        print('Hello Hi...') \n",
    "\n",
    "class Dog: \n",
    "    def bark(self): \n",
    "        print('Bow Bow..') \n",
    "\n",
    "def f1(obj): \n",
    "    if hasattr(obj,'talk'): \n",
    "        obj.talk() \n",
    "    \n",
    "    elif hasattr(obj,'bark'): \n",
    "        obj.bark() \n",
    "\n",
    "d=Duck() \n",
    "f1(d) \n",
    "\n",
    "h=Human() \n",
    "f1(h) \n",
    "\n",
    "d=Dog() \n",
    "f1(d)"
   ]
  },
  {
   "attachments": {},
   "cell_type": "markdown",
   "metadata": {},
   "source": [
    "1) Operator Overloading:"
   ]
  },
  {
   "cell_type": "code",
   "execution_count": 6,
   "metadata": {},
   "outputs": [
    {
     "ename": "TypeError",
     "evalue": "unsupported operand type(s) for +: 'Book' and 'Book'",
     "output_type": "error",
     "traceback": [
      "\u001b[1;31m---------------------------------------------------------------------------\u001b[0m",
      "\u001b[1;31mTypeError\u001b[0m                                 Traceback (most recent call last)",
      "\u001b[1;32md:\\GIT-repository\\github-python-advanced\\python-advanced\\03-OOP-Part-3.ipynb Célula 8\u001b[0m in \u001b[0;36m<cell line: 8>\u001b[1;34m()\u001b[0m\n\u001b[0;32m      <a href='vscode-notebook-cell:/d%3A/GIT-repository/github-python-advanced/python-advanced/03-OOP-Part-3.ipynb#X11sZmlsZQ%3D%3D?line=5'>6</a>\u001b[0m b1\u001b[39m=\u001b[39mBook(\u001b[39m100\u001b[39m)\n\u001b[0;32m      <a href='vscode-notebook-cell:/d%3A/GIT-repository/github-python-advanced/python-advanced/03-OOP-Part-3.ipynb#X11sZmlsZQ%3D%3D?line=6'>7</a>\u001b[0m b2\u001b[39m=\u001b[39mBook(\u001b[39m200\u001b[39m) \n\u001b[1;32m----> <a href='vscode-notebook-cell:/d%3A/GIT-repository/github-python-advanced/python-advanced/03-OOP-Part-3.ipynb#X11sZmlsZQ%3D%3D?line=7'>8</a>\u001b[0m \u001b[39mprint\u001b[39m(b1\u001b[39m+\u001b[39;49mb2)\n",
      "\u001b[1;31mTypeError\u001b[0m: unsupported operand type(s) for +: 'Book' and 'Book'"
     ]
    }
   ],
   "source": [
    "# Example - 077\n",
    "class Book: \n",
    "    def __init__(self,pages): \n",
    "        self.pages=pages \n",
    "\n",
    "b1=Book(100)\n",
    "b2=Book(200) \n",
    "print(b1+b2)"
   ]
  },
  {
   "cell_type": "code",
   "execution_count": 7,
   "metadata": {},
   "outputs": [
    {
     "name": "stdout",
     "output_type": "stream",
     "text": [
      "The Total Number of Pages: 300\n"
     ]
    }
   ],
   "source": [
    "# Example - 078\n",
    "class Book:\n",
    "    def __init__(self,pages): \n",
    "        self.pages=pages \n",
    "\n",
    "    def __add__(self,other): \n",
    "        return self.pages+other.pages \n",
    "\n",
    "b1=Book(100) \n",
    "b2=Book(200) \n",
    "print('The Total Number of Pages:',b1+b2)"
   ]
  },
  {
   "cell_type": "code",
   "execution_count": 8,
   "metadata": {},
   "outputs": [
    {
     "name": "stdout",
     "output_type": "stream",
     "text": [
      "10>20 = False\n",
      "s1>s2= False\n",
      "s1<s2= True\n",
      "s1<=s2= True\n",
      "s1>=s2= False\n"
     ]
    }
   ],
   "source": [
    "# Example - 079\n",
    "class Student: \n",
    "    def __init__(self,name,marks): \n",
    "        self.name=name \n",
    "        self.marks=marks \n",
    "\n",
    "    def __gt__(self,other): \n",
    "        return self.marks>other.marks \n",
    "\n",
    "    def __le__(self,other): \n",
    "        return self.marks<=other.marks \n",
    "\n",
    "print(\"10>20 =\",10>20) \n",
    "\n",
    "s1=Student(\"Miranda\",100) \n",
    "s2=Student(\"Santos\",200) \n",
    "\n",
    "print(\"s1>s2=\",s1>s2) \n",
    "print(\"s1<s2=\",s1<s2) \n",
    "print(\"s1<=s2=\",s1<=s2)\n",
    "print(\"s1>=s2=\",s1>=s2)"
   ]
  },
  {
   "cell_type": "code",
   "execution_count": 9,
   "metadata": {},
   "outputs": [
    {
     "name": "stdout",
     "output_type": "stream",
     "text": [
      "This Month Salary: 12500\n"
     ]
    }
   ],
   "source": [
    "# Example - 080\n",
    "class Employee: \n",
    "    def __init__(self,name,salary): \n",
    "        self.name=name \n",
    "        self.salary=salary \n",
    "\n",
    "    def __mul__(self,other): \n",
    "        return self.salary*other.days\n",
    "    \n",
    "class TimeSheet: \n",
    "    def __init__(self,name,days): \n",
    "        self.name=name \n",
    "        self.days=days \n",
    "\n",
    "e=Employee('Miranda',500) \n",
    "t=TimeSheet('Miranda',25) \n",
    "\n",
    "print('This Month Salary:',e*t)"
   ]
  },
  {
   "cell_type": "code",
   "execution_count": 10,
   "metadata": {},
   "outputs": [],
   "source": [
    "# Example - 081\n",
    "class Test: \n",
    "    def m1(self): \n",
    "        print('no-arg method') \n",
    "\n",
    "    def m1(self,a): \n",
    "        print('one-arg method') \n",
    "\n",
    "    def m1(self,a,b): \n",
    "        print('two-arg method') \n",
    "\n",
    "t=Test() \n",
    "#t.m1() \n",
    "#t.m1(10) \n",
    "t.m1(10,20)"
   ]
  },
  {
   "attachments": {},
   "cell_type": "markdown",
   "metadata": {},
   "source": [
    "2) Method Overloading:"
   ]
  },
  {
   "cell_type": "code",
   "execution_count": 11,
   "metadata": {},
   "outputs": [],
   "source": [
    "# Example - 082\n",
    "class Test: \n",
    "    def m1(self): \n",
    "        print('no-arg method') \n",
    "\n",
    "    def m1(self,a): \n",
    "        print('one-arg method') \n",
    "\n",
    "    def m1(self,a,b): \n",
    "        print('two-arg method') \n",
    "\n",
    "t=Test() \n",
    "#t.m1() \n",
    "t.m1(10) \n",
    "t.m1(10,20)"
   ]
  },
  {
   "cell_type": "code",
   "execution_count": 12,
   "metadata": {},
   "outputs": [
    {
     "name": "stdout",
     "output_type": "stream",
     "text": [
      "The Sum of 2 Numbers: 30\n",
      "The Sum of 3 Numbers: 60\n",
      "Please provide 2 or 3 arguments\n"
     ]
    }
   ],
   "source": [
    "# Example - 083\n",
    "class Test: \n",
    "    def sum(self,a=None,b=None,c=None): \n",
    "        if a!=None and b!= None and c!= None: \n",
    "            print('The Sum of 3 Numbers:',a+b+c) \n",
    "        \n",
    "        elif a!=None and b!= None: \n",
    "            print('The Sum of 2 Numbers:',a+b) \n",
    "\n",
    "        else: \n",
    "            print('Please provide 2 or 3 arguments') \n",
    "\n",
    "t=Test() \n",
    "t.sum(10,20) \n",
    "t.sum(10,20,30) \n",
    "t.sum(10)"
   ]
  },
  {
   "cell_type": "code",
   "execution_count": 13,
   "metadata": {},
   "outputs": [
    {
     "name": "stdout",
     "output_type": "stream",
     "text": [
      "The Sum: 10\n",
      "The Sum: 30\n",
      "The Sum: 10\n",
      "The Sum: 30\n",
      "The Sum: 60\n",
      "The Sum: 10\n"
     ]
    }
   ],
   "source": [
    "# Example - 084\n",
    "class Test: \n",
    "    def sum(self,*a): \n",
    "        total=0 \n",
    "        for x in a: \n",
    "            total=total+x \n",
    "            print('The Sum:',total) \n",
    "\n",
    "t=Test() \n",
    "\n",
    "t.sum(10,20) \n",
    "t.sum(10,20,30) \n",
    "t.sum(10) \n",
    "t.sum()"
   ]
  },
  {
   "attachments": {},
   "cell_type": "markdown",
   "metadata": {},
   "source": [
    "3) Constructor Overloading:"
   ]
  },
  {
   "cell_type": "code",
   "execution_count": 14,
   "metadata": {},
   "outputs": [],
   "source": [
    "# Example - 085\n",
    "class Test: \n",
    "    def __init__(self): \n",
    "        print('No-Arg Constructor')\n",
    "\n",
    "    def __init__(self,a): \n",
    "        print('One-Arg constructor') \n",
    "\n",
    "    def __init__(self,a,b): \n",
    "        print('Two-Arg constructor') \n",
    "\n",
    "#t1=Test() \n",
    "#t1=Test(10) \n",
    "t1=Test(10,20)"
   ]
  },
  {
   "attachments": {},
   "cell_type": "markdown",
   "metadata": {},
   "source": [
    "Constructor with Default Arguments:"
   ]
  },
  {
   "cell_type": "code",
   "execution_count": 15,
   "metadata": {},
   "outputs": [
    {
     "name": "stdout",
     "output_type": "stream",
     "text": [
      "Constructor with 0|1|2|3 number of arguments\n",
      "Constructor with 0|1|2|3 number of arguments\n",
      "Constructor with 0|1|2|3 number of arguments\n",
      "Constructor with 0|1|2|3 number of arguments\n"
     ]
    }
   ],
   "source": [
    "# Example - 086\n",
    "class Test: \n",
    "    def __init__(self,a=None,b=None,c=None): \n",
    "        print('Constructor with 0|1|2|3 number of arguments') \n",
    "\n",
    "t1=Test() \n",
    "t2=Test(10) \n",
    "t3=Test(10,20) \n",
    "t4=Test(10,20,30)"
   ]
  },
  {
   "attachments": {},
   "cell_type": "markdown",
   "metadata": {},
   "source": [
    "Constructor with Variable Number of Arguments:"
   ]
  },
  {
   "cell_type": "code",
   "execution_count": 16,
   "metadata": {},
   "outputs": [
    {
     "name": "stdout",
     "output_type": "stream",
     "text": [
      "Constructor with variable number of arguments\n",
      "Constructor with variable number of arguments\n",
      "Constructor with variable number of arguments\n",
      "Constructor with variable number of arguments\n",
      "Constructor with variable number of arguments\n"
     ]
    }
   ],
   "source": [
    "# Example - 87\n",
    "class Test: \n",
    "    def __init__(self,*a):      \n",
    "        print('Constructor with variable number of arguments') \n",
    "\n",
    "t1=Test() \n",
    "t2=Test(10) \n",
    "t3=Test(10,20) \n",
    "t4=Test(10,20,30) \n",
    "t5=Test(10,20,30,40,50,60)"
   ]
  },
  {
   "attachments": {},
   "cell_type": "markdown",
   "metadata": {},
   "source": [
    "Overriding"
   ]
  },
  {
   "cell_type": "code",
   "execution_count": 17,
   "metadata": {},
   "outputs": [
    {
     "name": "stdout",
     "output_type": "stream",
     "text": [
      "Gold+Land+Cash+Power\n",
      "Katrina Kaif\n"
     ]
    }
   ],
   "source": [
    "# Example - 088\n",
    "class P: \n",
    "    def property(self): \n",
    "        print('Gold+Land+Cash+Power') \n",
    "\n",
    "    def marry(self): \n",
    "        print('Appalamma') \n",
    "\n",
    "class C(P): \n",
    "    def marry(self): \n",
    "        print('Katrina Kaif') \n",
    "\n",
    "c=C() \n",
    "c.property() \n",
    "c.marry()"
   ]
  },
  {
   "cell_type": "code",
   "execution_count": 18,
   "metadata": {},
   "outputs": [
    {
     "name": "stdout",
     "output_type": "stream",
     "text": [
      "Gold+Land+Cash+Power\n",
      "Appalamma\n",
      "Katrina Kaif\n"
     ]
    }
   ],
   "source": [
    "# Example - 089\n",
    "class P: \n",
    "    def property(self): \n",
    "        print('Gold+Land+Cash+Power')\n",
    "\n",
    "    def marry(self): \n",
    "        print('Appalamma') \n",
    "\n",
    "class C(P): \n",
    "    def marry(self): \n",
    "        super().marry() \n",
    "        print('Katrina Kaif') \n",
    "\n",
    "c=C() \n",
    "c.property() \n",
    "c.marry()"
   ]
  },
  {
   "cell_type": "code",
   "execution_count": 19,
   "metadata": {},
   "outputs": [
    {
     "name": "stdout",
     "output_type": "stream",
     "text": [
      "Child Constructor\n"
     ]
    }
   ],
   "source": [
    "# Example - 090\n",
    "class P: \n",
    "    def __init__(self): \n",
    "        print('Parent Constructor') \n",
    "\n",
    "class C(P): \n",
    "    def __init__(self): \n",
    "        print('Child Constructor') \n",
    "\n",
    "c=C()"
   ]
  },
  {
   "cell_type": "code",
   "execution_count": 20,
   "metadata": {},
   "outputs": [
    {
     "name": "stdout",
     "output_type": "stream",
     "text": [
      "Employee Name: Miranda\n",
      "Employee Age: 48\n",
      "Employee Number: 872425\n",
      "Employee Salary: 26000\n",
      "Employee Name: Santos\n",
      "Employee Age: 39\n",
      "Employee Number: 872426\n",
      "Employee Salary: 36000\n"
     ]
    }
   ],
   "source": [
    "# Example - 091\n",
    "class Person: \n",
    "    def __init__(self,name,age): \n",
    "        self.name=name \n",
    "        self.age=age \n",
    "\n",
    "class Employee(Person): \n",
    "    def __init__(self,name,age,eno,esal): \n",
    "        super().__init__(name,age)\n",
    "        self.eno=eno \n",
    "        self.esal=esal \n",
    "\n",
    "    def display(self): \n",
    "        print('Employee Name:',self.name) \n",
    "        print('Employee Age:',self.age) \n",
    "        print('Employee Number:',self.eno) \n",
    "        print('Employee Salary:',self.esal) \n",
    "\n",
    "e1=Employee('Miranda',48,872425,26000) \n",
    "e1.display()\n",
    "\n",
    "e2=Employee('Santos',39,872426,36000) \n",
    "e2.display()"
   ]
  },
  {
   "cell_type": "code",
   "execution_count": 21,
   "metadata": {},
   "outputs": [
    {
     "name": "stdout",
     "output_type": "stream",
     "text": [
      "Author: Caique Miranda\n",
      "\n",
      "Github username: caiquemiranda\n",
      "\n"
     ]
    }
   ],
   "source": [
    "%reload_ext watermark\n",
    "%watermark -a \"Caique Miranda\" -gu \"caiquemiranda\" -iv"
   ]
  },
  {
   "attachments": {},
   "cell_type": "markdown",
   "metadata": {},
   "source": [
    "### End."
   ]
  }
 ],
 "metadata": {
  "kernelspec": {
   "display_name": "Python 3",
   "language": "python",
   "name": "python3"
  },
  "language_info": {
   "codemirror_mode": {
    "name": "ipython",
    "version": 3
   },
   "file_extension": ".py",
   "mimetype": "text/x-python",
   "name": "python",
   "nbconvert_exporter": "python",
   "pygments_lexer": "ipython3",
   "version": "3.10.5"
  },
  "orig_nbformat": 4,
  "vscode": {
   "interpreter": {
    "hash": "74af3d2f25f1e46ebd2903d59225d79e4675ec224d56c01fc30cd168c2010d53"
   }
  }
 },
 "nbformat": 4,
 "nbformat_minor": 2
}
