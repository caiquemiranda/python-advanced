{
 "cells": [
  {
   "attachments": {},
   "cell_type": "markdown",
   "metadata": {},
   "source": [
    "### POLYMORPHISM"
   ]
  },
  {
   "cell_type": "code",
   "execution_count": null,
   "metadata": {},
   "outputs": [],
   "source": [
    "1) class Duck: 2) def talk(self): 3) print('Quack.. Quack..') 4) 5) class Dog: 6) def talk(self): 7) print('Bow Bow..') 8) 9) class Cat: 10) def talk(self): 11) print('Moew Moew ..') 12) 13) class Goat: 14) def talk(self): 15) print('Myaah Myaah ..') 16) 17) def f1(obj): 18) obj.talk() 19) 20) l=[Duck(),Cat(),Dog(),Goat()] 21) for obj in"
   ]
  },
  {
   "cell_type": "code",
   "execution_count": null,
   "metadata": {},
   "outputs": [],
   "source": [
    "1) class Duck: 2) def talk(self): 3) print('Quack.. Quack..') 4) 5) class Dog: 6) def bark(self): 7) print('Bow Bow..') 8) def f1(obj): 9) obj.talk() 10) 11) d=Duck() 12) f1(d) 13)14) d=Dog() 15) f1(d)"
   ]
  },
  {
   "cell_type": "code",
   "execution_count": null,
   "metadata": {},
   "outputs": [],
   "source": [
    "1) class Duck: 2) def talk(self): 3) print('Quack.. Quack..') 4) 5) class Human: 6) def talk(self): 7) print('Hello Hi...') 8) 9) class Dog: 10) def bark(self): 11) print('Bow Bow..') 12) 13) def f1(obj): 14) if hasattr(obj,'talk'): 15) obj.talk() 16) elif hasattr(obj,'bark'): 17) obj.bark() 18) 19) d=Duck() 20) f1(d) 21) 22) h=Human() 23) f1(h) 24) 25) d=Dog() 26) f1(d)27) Myaah Myaah Myaah..."
   ]
  },
  {
   "attachments": {},
   "cell_type": "markdown",
   "metadata": {},
   "source": [
    "1) Operator Overloading:"
   ]
  },
  {
   "cell_type": "code",
   "execution_count": null,
   "metadata": {},
   "outputs": [],
   "source": [
    "1) class Book: 2) def __init__(self,pages): 3) self.pages=pages 4) 5) b1=Book(100)6) b2=Book(200) 7) print(b1+b2)"
   ]
  },
  {
   "cell_type": "code",
   "execution_count": null,
   "metadata": {},
   "outputs": [],
   "source": [
    "1) class Book: 2) def __init__(self,pages): 3) self.pages=pages 4) 5) def __add__(self,other): 6) return self.pages+other.pages 7) 8) b1=Book(100) 9) b2=Book(200) 10) print('The Total Number of Pages:',b1+b2)"
   ]
  },
  {
   "cell_type": "code",
   "execution_count": null,
   "metadata": {},
   "outputs": [],
   "source": [
    "1) class Student: 2) def __init__(self,name,marks): 3) self.name=name 4) self.marks=marks 5) def __gt__(self,other): 6) return self.marks>other.marks 7) def __le__(self,other): 8) return self.marks<=other.marks 9) 10) print(\"10>20 =\",10>20) 11) s1=Student(\"Durga\",100) 12) s2=Student(\"Ravi\",200) 13) print(\"s1>s2=\",s1>s2) 14) print(\"s1<s2=\",s1<s2) 15) print(\"s1<=s2=\",s1<=s2) 16) print(\"s1>=s2=\",s1>=s2)"
   ]
  },
  {
   "cell_type": "code",
   "execution_count": null,
   "metadata": {},
   "outputs": [],
   "source": [
    "1) class Employee: 2) def __init__(self,name,salary): 3) self.name=name 4) self.salary=salary 5) def __mul__(self,other): 6) return self.salary*other.days65 DURGASOFT, # 202, 2nd Floor, HUDA Maitrivanam, Ameerpet, Hyderabad - 500038,\n",
    "\n",
    "8) class TimeSheet: 9) def __init__(self,name,days): 10) self.name=name 11) self.days=days 12) 13) e=Employee('Durga',500) 14) t=TimeSheet('Durga',25) 15) print('This Month Salary:',e*t)"
   ]
  },
  {
   "cell_type": "code",
   "execution_count": null,
   "metadata": {},
   "outputs": [],
   "source": [
    "1) class Test: 2) def m1(self): 3) print('no-arg method') 4) def m1(self,a): 5) print('one-arg method') 6) def m1(self,a,b): 7) print('two-arg method') 8) 9) t=Test() 10) #t.m1() 11) #t.m1(10) 12) t.m1(10,20)"
   ]
  },
  {
   "attachments": {},
   "cell_type": "markdown",
   "metadata": {},
   "source": [
    "2) Method Overloading:"
   ]
  },
  {
   "cell_type": "code",
   "execution_count": null,
   "metadata": {},
   "outputs": [],
   "source": [
    "1) class Test: 2) def m1(self): 3) print('no-arg method') 4) def m1(self,a): 5) print('one-arg method') 6) def m1(self,a,b): 7) print('two-arg method') 8) 9) t=Test() 10) #t.m1() 11) #t.m1(10) 12) t.m1(10,20)"
   ]
  },
  {
   "cell_type": "code",
   "execution_count": null,
   "metadata": {},
   "outputs": [],
   "source": [
    "1) class Test: 2) def sum(self,a=None,b=None,c=None): 3) if a!=None and b!= None and c!= None: 4) print('The Sum of 3 Numbers:',a+b+c) 5) elif a!=None and b!= None: 6) print('The Sum of 2 Numbers:',a+b) 7) else: 8) print('Please provide 2 or 3 arguments') 9) t=Test() 10) t.sum(10,20) 11) t.sum(10,20,30) 12) t.sum(10)"
   ]
  },
  {
   "cell_type": "code",
   "execution_count": null,
   "metadata": {},
   "outputs": [],
   "source": [
    "1) class Test: 2) def sum(self,*a): 3) total=0 4) for x in a: 5) total=total+x 6) print('The Sum:',total) 7) 8) t=Test() 9) t.sum(10,20) 10) t.sum(10,20,30) 11) t.sum(10) 12) t.sum()"
   ]
  },
  {
   "attachments": {},
   "cell_type": "markdown",
   "metadata": {},
   "source": [
    "3) Constructor Overloading:"
   ]
  },
  {
   "cell_type": "code",
   "execution_count": null,
   "metadata": {},
   "outputs": [],
   "source": [
    "1) class Test: 2) def __init__(self): 3) print('No-Arg Constructor')5) def __init__(self,a): 6) print('One-Arg constructor') 7) 8) def __init__(self,a,b): 9) print('Two-Arg constructor') 10) #t1=Test() 11) #t1=Test(10) 12) t1=Test(10,20)"
   ]
  },
  {
   "attachments": {},
   "cell_type": "markdown",
   "metadata": {},
   "source": [
    "Constructor with Default Arguments:"
   ]
  },
  {
   "cell_type": "code",
   "execution_count": null,
   "metadata": {},
   "outputs": [],
   "source": [
    "1) class Test: 2) def __init__(self,a=None,b=None,c=None): 3) print('Constructor with 0|1|2|3 number of arguments') 4) 5) t1=Test() 6) t2=Test(10) 7) t3=Test(10,20) 8) t4=Test(10,20,30)"
   ]
  },
  {
   "attachments": {},
   "cell_type": "markdown",
   "metadata": {},
   "source": [
    "Constructor with Variable Number of Arguments:"
   ]
  },
  {
   "cell_type": "code",
   "execution_count": null,
   "metadata": {},
   "outputs": [],
   "source": [
    "1) class Test: 2) def __init__(self,*a): 3) print('Constructor with variable number of arguments') 4) 5) t1=Test() 6) t2=Test(10) 7) t3=Test(10,20) 8) t4=Test(10,20,30) 9) t5=Test(10,20,30,40,50,60)"
   ]
  },
  {
   "attachments": {},
   "cell_type": "markdown",
   "metadata": {},
   "source": [
    "Overriding"
   ]
  },
  {
   "cell_type": "code",
   "execution_count": null,
   "metadata": {},
   "outputs": [],
   "source": [
    "1) class P: 2) def property(self): 3) print('Gold+Land+Cash+Power') 4) def marry(self): 5) print('Appalamma') 6) class C(P): 7) def marry(self): 8) print('Katrina Kaif') 9) 10) c=C() 11) c.property() 12) c.marry()"
   ]
  },
  {
   "cell_type": "code",
   "execution_count": null,
   "metadata": {},
   "outputs": [],
   "source": [
    "1) class P: 2) def property(self): 3) print('Gold+Land+Cash+Power')4) def marry(self): 5) print('Appalamma') 6) class C(P): 7) def marry(self): 8) super().marry() 9) print('Katrina Kaif') 10) 11) c=C() 12) c.property() 13) c.marry()"
   ]
  },
  {
   "cell_type": "code",
   "execution_count": null,
   "metadata": {},
   "outputs": [],
   "source": [
    "Demo Program for Constructor Overriding: 1) class P: 2) def __init__(self): 3) print('Parent Constructor') 4) 5) class C(P): 6) def __init__(self): 7) print('Child Constructor') 8) 9) c=C()"
   ]
  },
  {
   "cell_type": "code",
   "execution_count": null,
   "metadata": {},
   "outputs": [],
   "source": [
    "Demo Program to call Parent Class Constructor by using super(): 1) class Person: 2) def __init__(self,name,age): 3) self.name=name 4) self.age=age 5) 6) class Employee(Person): 7) def __init__(self,name,age,eno,esal): 8) super().__init__(name,age)9) self.eno=eno 10) self.esal=esal 11) 12) def display(self): 13) print('Employee Name:',self.name) 14) print('Employee Age:',self.age) 15) print('Employee Number:',self.eno) 16) print('Employee Salary:',self.esal) 17) 18) e1=Employee('Durga',48,872425,26000) 19) e1.display() 20) e2=Employee('Sunny',39,872426,36000) 21) e2.display()"
   ]
  },
  {
   "cell_type": "code",
   "execution_count": null,
   "metadata": {},
   "outputs": [],
   "source": []
  },
  {
   "cell_type": "code",
   "execution_count": null,
   "metadata": {},
   "outputs": [],
   "source": []
  },
  {
   "cell_type": "code",
   "execution_count": null,
   "metadata": {},
   "outputs": [],
   "source": []
  },
  {
   "cell_type": "code",
   "execution_count": null,
   "metadata": {},
   "outputs": [],
   "source": [
    "%reload_ext watermark\n",
    "%watermark -a \"Caique Miranda\" -gu \"caiquemiranda\" -iv"
   ]
  },
  {
   "attachments": {},
   "cell_type": "markdown",
   "metadata": {},
   "source": [
    "### End."
   ]
  }
 ],
 "metadata": {
  "kernelspec": {
   "display_name": "Python 3",
   "language": "python",
   "name": "python3"
  },
  "language_info": {
   "name": "python",
   "version": "3.10.5"
  },
  "orig_nbformat": 4,
  "vscode": {
   "interpreter": {
    "hash": "74af3d2f25f1e46ebd2903d59225d79e4675ec224d56c01fc30cd168c2010d53"
   }
  }
 },
 "nbformat": 4,
 "nbformat_minor": 2
}
