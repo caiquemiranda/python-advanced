{
 "cells": [
  {
   "attachments": {},
   "cell_type": "markdown",
   "metadata": {},
   "source": [
    "### POLYMORPHISM"
   ]
  },
  {
   "cell_type": "code",
   "execution_count": null,
   "metadata": {},
   "outputs": [],
   "source": [
    "class Duck: \n",
    " def talk(self): \n",
    " print('Quack.. Quack..') \n",
    " \n",
    " class Dog: \n",
    " def talk(self): \n",
    " print('Bow Bow..') \n",
    " \n",
    " class Cat: \n",
    " def talk(self): \n",
    " print('Moew Moew ..') \n",
    " \n",
    " class Goat: \n",
    " def talk(self): \n",
    " print('Myaah Myaah ..') \n",
    " \n",
    " def f1(obj): \n",
    " obj.talk() \n",
    " \n",
    " l=[Duck(),Cat(),Dog(),Goat()] \n",
    " for obj in l:\n",
    "     f1(obj)"
   ]
  },
  {
   "cell_type": "code",
   "execution_count": null,
   "metadata": {},
   "outputs": [],
   "source": [
    " class Duck: \n",
    " def talk(self): \n",
    " print('Quack.. Quack..') \n",
    " \n",
    " class Dog: \n",
    " def bark(self): \n",
    " print('Bow Bow..') \n",
    " def f1(obj): \n",
    " obj.talk() \n",
    " \n",
    " d=Duck() \n",
    " f1(d) \n",
    "\n",
    " d=Dog() \n",
    " f1(d)"
   ]
  },
  {
   "cell_type": "code",
   "execution_count": null,
   "metadata": {},
   "outputs": [],
   "source": [
    "class Duck: \n",
    " def talk(self): \n",
    " print('Quack.. Quack..') \n",
    "\n",
    " class Human: \n",
    " def talk(self): \n",
    " print('Hello Hi...') \n",
    " \n",
    " class Dog: \n",
    " def bark(self): \n",
    " print('Bow Bow..') \n",
    " \n",
    " def f1(obj): \n",
    " if hasattr(obj,'talk'): \n",
    " obj.talk() \n",
    " elif hasattr(obj,'bark'): \n",
    " obj.bark() \n",
    " \n",
    " d=Duck() \n",
    " f1(d) \n",
    " \n",
    " h=Human() \n",
    " f1(h) \n",
    " \n",
    " d=Dog() \n",
    " f1(d)\n"
   ]
  },
  {
   "attachments": {},
   "cell_type": "markdown",
   "metadata": {},
   "source": [
    "1) Operator Overloading:"
   ]
  },
  {
   "cell_type": "code",
   "execution_count": null,
   "metadata": {},
   "outputs": [],
   "source": [
    " class Book: \n",
    " def __init__(self,pages): \n",
    " self.pages=pages \n",
    "\n",
    " b1=Book(100)\n",
    " b2=Book(200) \n",
    "print(b1+b2)"
   ]
  },
  {
   "cell_type": "code",
   "execution_count": null,
   "metadata": {},
   "outputs": [],
   "source": [
    " class Book:\n",
    " def __init__(self,pages): \n",
    " self.pages=pages \n",
    " \n",
    " def __add__(self,other): \n",
    " return self.pages+other.pages \n",
    " \n",
    " b1=Book(100) \n",
    " b2=Book(200) \n",
    " print('The Total Number of Pages:',b1+b2)"
   ]
  },
  {
   "cell_type": "code",
   "execution_count": null,
   "metadata": {},
   "outputs": [],
   "source": [
    " class Student: \n",
    "def __init__(self,name,marks): \n",
    " self.name=name \n",
    " self.marks=marks \n",
    " def __gt__(self,other): \n",
    " return self.marks>other.marks \n",
    " def __le__(self,other): \n",
    " return self.marks<=other.marks \n",
    " \n",
    " print(\"10>20 =\",10>20) \n",
    " s1=Student(\"Durga\",100) \n",
    " s2=Student(\"Ravi\",200) \n",
    " print(\"s1>s2=\",s1>s2) \n",
    " print(\"s1<s2=\",s1<s2) \n",
    " print(\"s1<=s2=\",s1<=s2)\n",
    " print(\"s1>=s2=\",s1>=s2)"
   ]
  },
  {
   "cell_type": "code",
   "execution_count": null,
   "metadata": {},
   "outputs": [],
   "source": [
    " class Employee: \n",
    " def __init__(self,name,salary): \n",
    " self.name=name \n",
    " self.salary=salary \n",
    " def __mul__(self,other): \n",
    " return self.salary*other.days65 DURGASOFT, # 202, 2nd Floor, HUDA Maitrivanam, Ameerpet, Hyderabad - 500038,\n",
    "\n",
    " class TimeSheet: \n",
    " def __init__(self,name,days): \n",
    " self.name=name \n",
    " self.days=days \n",
    " \n",
    " e=Employee('Durga',500) \n",
    " t=TimeSheet('Durga',25) \n",
    " print('This Month Salary:',e*t)"
   ]
  },
  {
   "cell_type": "code",
   "execution_count": null,
   "metadata": {},
   "outputs": [],
   "source": [
    " class Test: \n",
    " def m1(self): \n",
    " print('no-arg method') \n",
    " def m1(self,a): \n",
    " print('one-arg method') \n",
    " def m1(self,a,b): \n",
    " print('two-arg method') \n",
    " \n",
    " t=Test() \n",
    " #t.m1() 11) #t.m1(10) 12) t.m1(10,20)"
   ]
  },
  {
   "attachments": {},
   "cell_type": "markdown",
   "metadata": {},
   "source": [
    "2) Method Overloading:"
   ]
  },
  {
   "cell_type": "code",
   "execution_count": null,
   "metadata": {},
   "outputs": [],
   "source": [
    " class Test: \n",
    " def m1(self): \n",
    " print('no-arg method') \n",
    " def m1(self,a): \n",
    " print('one-arg method') \n",
    " def m1(self,a,b): \n",
    " print('two-arg method') \n",
    " \n",
    " t=Test() \n",
    " #t.m1() 11) #t.m1(10) 12) t.m1(10,20)"
   ]
  },
  {
   "cell_type": "code",
   "execution_count": null,
   "metadata": {},
   "outputs": [],
   "source": [
    " class Test: \n",
    " def sum(self,a=None,b=None,c=None): \n",
    " if a!=None and b!= None and c!= None: \n",
    " print('The Sum of 3 Numbers:',a+b+c) \n",
    " elif a!=None and b!= None: \n",
    "print('The Sum of 2 Numbers:',a+b) \n",
    " else: \n",
    " print('Please provide 2 or 3 arguments') \n",
    " t=Test() \n",
    " t.sum(10,20) \n",
    " t.sum(10,20,30) \n",
    " t.sum(10)"
   ]
  },
  {
   "cell_type": "code",
   "execution_count": null,
   "metadata": {},
   "outputs": [],
   "source": [
    " class Test: \n",
    " def sum(self,*a): \n",
    " total=0 \n",
    " for x in a: \n",
    " total=total+x \n",
    " print('The Sum:',total) \n",
    " \n",
    " t=Test() \n",
    " t.sum(10,20) \n",
    " t.sum(10,20,30) \n",
    " t.sum(10) \n",
    " t.sum()"
   ]
  },
  {
   "attachments": {},
   "cell_type": "markdown",
   "metadata": {},
   "source": [
    "3) Constructor Overloading:"
   ]
  },
  {
   "cell_type": "code",
   "execution_count": null,
   "metadata": {},
   "outputs": [],
   "source": [
    " class Test: \n",
    " def __init__(self): \n",
    " print('No-Arg Constructor')\n",
    " def __init__(self,a): \n",
    " print('One-Arg constructor') \n",
    " \n",
    " def __init__(self,a,b): \n",
    " print('Two-Arg constructor') \n",
    " #t1=Test() 11) #t1=Test(10) 12) t1=Test(10,20)"
   ]
  },
  {
   "attachments": {},
   "cell_type": "markdown",
   "metadata": {},
   "source": [
    "Constructor with Default Arguments:"
   ]
  },
  {
   "cell_type": "code",
   "execution_count": null,
   "metadata": {},
   "outputs": [],
   "source": [
    " class Test: \n",
    " def __init__(self,a=None,b=None,c=None): \n",
    " print('Constructor with 0|1|2|3 number of arguments') \n",
    " \n",
    " t1=Test() \n",
    " t2=Test(10) \n",
    " t3=Test(10,20) \n",
    " t4=Test(10,20,30)"
   ]
  },
  {
   "attachments": {},
   "cell_type": "markdown",
   "metadata": {},
   "source": [
    "Constructor with Variable Number of Arguments:"
   ]
  },
  {
   "cell_type": "code",
   "execution_count": null,
   "metadata": {},
   "outputs": [],
   "source": [
    " class Test: \n",
    " def __init__(self,*a): \n",
    " print('Constructor with variable number of arguments') \n",
    " \n",
    " t1=Test() \n",
    " t2=Test(10) \n",
    " t3=Test(10,20) \n",
    " t4=Test(10,20,30) \n",
    " t5=Test(10,20,30,40,50,60)"
   ]
  },
  {
   "attachments": {},
   "cell_type": "markdown",
   "metadata": {},
   "source": [
    "Overriding"
   ]
  },
  {
   "cell_type": "code",
   "execution_count": null,
   "metadata": {},
   "outputs": [],
   "source": [
    " class P: \n",
    " def property(self): \n",
    " print('Gold+Land+Cash+Power') \n",
    " def marry(self): \n",
    " print('Appalamma') \n",
    " class C(P): \n",
    " def marry(self): \n",
    " print('Katrina Kaif') \n",
    " \n",
    " c=C() \n",
    " c.property() \n",
    " c.marry()"
   ]
  },
  {
   "cell_type": "code",
   "execution_count": null,
   "metadata": {},
   "outputs": [],
   "source": [
    " class P: \n",
    " def property(self): \n",
    " print('Gold+Land+Cash+Power')\n",
    " def marry(self): \n",
    " print('Appalamma') \n",
    "class C(P): \n",
    " def marry(self): \n",
    "super().marry() \n",
    " print('Katrina Kaif') \n",
    " \n",
    " c=C() \n",
    " c.property() \n",
    " c.marry()"
   ]
  },
  {
   "cell_type": "code",
   "execution_count": null,
   "metadata": {},
   "outputs": [],
   "source": [
    " class P: \n",
    " def __init__(self): \n",
    " print('Parent Constructor') \n",
    " \n",
    " class C(P): \n",
    " def __init__(self): \n",
    " print('Child Constructor') \n",
    " \n",
    " c=C()"
   ]
  },
  {
   "cell_type": "code",
   "execution_count": null,
   "metadata": {},
   "outputs": [],
   "source": [
    "super(): \n",
    " class Person: \n",
    " def __init__(self,name,age): \n",
    " self.name=name \n",
    " self.age=age \n",
    " \n",
    "class Employee(Person): \n",
    " def __init__(self,name,age,eno,esal): \n",
    " super().__init__(name,age)\n",
    " self.eno=eno \n",
    " self.esal=esal \n",
    " \n",
    " def display(self): \n",
    " print('Employee Name:',self.name) \n",
    " print('Employee Age:',self.age) \n",
    " print('Employee Number:',self.eno) \n",
    " print('Employee Salary:',self.esal) \n",
    "\n",
    " e1=Employee('Durga',48,872425,26000) \n",
    " e1.display()\n",
    " e2=Employee('Sunny',39,872426,36000) \n",
    "e2.display()"
   ]
  },
  {
   "cell_type": "code",
   "execution_count": null,
   "metadata": {},
   "outputs": [],
   "source": [
    "%reload_ext watermark\n",
    "%watermark -a \"Caique Miranda\" -gu \"caiquemiranda\" -iv"
   ]
  },
  {
   "attachments": {},
   "cell_type": "markdown",
   "metadata": {},
   "source": [
    "### End."
   ]
  }
 ],
 "metadata": {
  "kernelspec": {
   "display_name": "Python 3",
   "language": "python",
   "name": "python3"
  },
  "language_info": {
   "name": "python",
   "version": "3.10.5"
  },
  "orig_nbformat": 4,
  "vscode": {
   "interpreter": {
    "hash": "74af3d2f25f1e46ebd2903d59225d79e4675ec224d56c01fc30cd168c2010d53"
   }
  }
 },
 "nbformat": 4,
 "nbformat_minor": 2
}
